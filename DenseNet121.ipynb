{
 "cells": [
  {
   "cell_type": "code",
   "execution_count": 1,
   "id": "8ae5d9f4",
   "metadata": {},
   "outputs": [],
   "source": [
    "import os\n",
    "os.environ[\"KMP_DUPLICATE_LIB_OK\"]=\"TRUE\"\n",
    "\n",
    "import torch\n",
    "import torch.nn as nn\n",
    "import torch.optim as optim\n",
    "import torch.nn.functional as F\n",
    "\n",
    "from torchvision import transforms, datasets, models\n",
    "from collections import OrderedDict\n",
    "\n",
    "import time\n",
    "import math\n",
    "\n",
    "%matplotlib inline\n",
    "import matplotlib as mpl\n",
    "import matplotlib.pyplot as plt\n",
    "mpl.rc('axes', labelsize = 14)\n",
    "mpl.rc('xtick', labelsize = 12)\n",
    "mpl.rc('ytick', labelsize = 12)\n",
    "\n",
    "\n",
    "PROJECT_ROOT_DIR = '.'\n",
    "DATASET_NAME = 'flower_data'\n",
    "DATASETS_PATH = os.path.join(PROJECT_ROOT_DIR, 'datasets')\n",
    "DATASET_PATH = os.path.join(DATASETS_PATH, DATASET_NAME)\n",
    "MODEL_PATH = os.path.join(PROJECT_ROOT_DIR, 'pretained')"
   ]
  },
  {
   "cell_type": "code",
   "execution_count": 2,
   "id": "eeb07119",
   "metadata": {},
   "outputs": [
    {
     "data": {
      "text/plain": [
       "device(type='cuda', index=0)"
      ]
     },
     "execution_count": 2,
     "metadata": {},
     "output_type": "execute_result"
    }
   ],
   "source": [
    "device = torch.device('cuda:0' if torch.cuda.is_available() else 'cpu')\n",
    "device"
   ]
  },
  {
   "cell_type": "code",
   "execution_count": 3,
   "id": "5f3c72aa",
   "metadata": {},
   "outputs": [],
   "source": [
    "from shutil import copy, rmtree\n",
    "\n",
    "def mk_file(file_path: str):\n",
    "    if os.path.exists(file_path):\n",
    "        rmtree(file_path)\n",
    "    os.makedirs(file_path)"
   ]
  },
  {
   "cell_type": "code",
   "execution_count": 4,
   "id": "bb8b8cf7",
   "metadata": {},
   "outputs": [
    {
     "name": "stdout",
     "output_type": "stream",
     "text": [
      "数据集类别： ['daisy', 'dandelion', 'roses', 'sunflowers', 'tulips']\n"
     ]
    }
   ],
   "source": [
    "original_dataset = os.path.join(DATASET_PATH, \"flower_photos\")\n",
    "\n",
    "assert os.path.exists(original_dataset)\n",
    "flower_class = [cla for cla in os.listdir(original_dataset)\n",
    "                    if os.path.isdir(os.path.join(original_dataset, cla))]\n",
    "num_class = len(flower_class)\n",
    "print(\"数据集类别：\" , flower_class)"
   ]
  },
  {
   "cell_type": "code",
   "execution_count": 5,
   "id": "1f4360fd",
   "metadata": {},
   "outputs": [],
   "source": [
    "# 建立保存训练集的文件夹\n",
    "train_root = os.path.join(DATASET_PATH, \"train\")\n",
    "mk_file(train_root)\n",
    "for cla in flower_class:\n",
    "    # 建立每个类别对应的文件夹\n",
    "    mk_file(os.path.join(train_root, cla))\n",
    "        \n",
    "# 建立保存验证集的文件夹\n",
    "val_root = os.path.join(DATASET_PATH, \"val\")\n",
    "mk_file(val_root)\n",
    "for cla in flower_class:\n",
    "    # 建立每个类别对应的文件夹\n",
    "    mk_file(os.path.join(val_root, cla))"
   ]
  },
  {
   "cell_type": "code",
   "execution_count": 6,
   "id": "532cec6f",
   "metadata": {},
   "outputs": [
    {
     "name": "stdout",
     "output_type": "stream",
     "text": [
      "[daisy] 训练验证样本分离 [633/633]\n",
      "[dandelion] 训练验证样本分离 [898/898]\n",
      "[roses] 训练验证样本分离 [641/641]\n",
      "[sunflowers] 训练验证样本分离 [699/699]\n",
      "[tulips] 训练验证样本分离 [799/799]\n"
     ]
    }
   ],
   "source": [
    "import random\n",
    "\n",
    "split_rate = 0.1\n",
    "\n",
    "for cla in flower_class:\n",
    "    cla_path = os.path.join(original_dataset, cla)\n",
    "    images = os.listdir(cla_path)\n",
    "    num = len(images)\n",
    "    # 随机采样验证集的索引\n",
    "    eval_index = random.sample(images, k=int(num*split_rate))\n",
    "    for index, image in enumerate(images):\n",
    "        if image in eval_index:\n",
    "            # 将分配至验证集中的文件复制到相应目录\n",
    "            image_path = os.path.join(cla_path, image)\n",
    "            new_path = os.path.join(val_root, cla)\n",
    "            copy(image_path, new_path)\n",
    "        else:\n",
    "            # 将分配至训练集中的文件复制到相应目录\n",
    "            image_path = os.path.join(cla_path, image)\n",
    "            new_path = os.path.join(train_root, cla)\n",
    "            copy(image_path, new_path)\n",
    "        print(\"\\r[{}] 训练验证样本分离 [{}/{}]\".format(cla, index+1, num), end=\"\") \n",
    "    print()"
   ]
  },
  {
   "cell_type": "code",
   "execution_count": 7,
   "id": "7ea3327b",
   "metadata": {},
   "outputs": [],
   "source": [
    "data_transform = {\n",
    "    \"train\": transforms.Compose([transforms.RandomResizedCrop(224),\n",
    "                                 transforms.RandomHorizontalFlip(),\n",
    "                                 transforms.ToTensor(),\n",
    "                                 transforms.Normalize((0.5, 0.5, 0.5), (0.5, 0.5, 0.5))]),\n",
    "    \"val\": transforms.Compose([transforms.Resize((224, 224)),  \n",
    "                               transforms.ToTensor(),\n",
    "                               transforms.Normalize((0.5, 0.5, 0.5), (0.5, 0.5, 0.5))])}"
   ]
  },
  {
   "cell_type": "code",
   "execution_count": 8,
   "id": "882d036b",
   "metadata": {},
   "outputs": [
    {
     "name": "stdout",
     "output_type": "stream",
     "text": [
      "训练样本数： 3306\n",
      "验证样本数： 364\n"
     ]
    }
   ],
   "source": [
    "batch_size = 64\n",
    "\n",
    "train_dataset = datasets.ImageFolder(root=train_root,\n",
    "                                     transform=data_transform[\"train\"])\n",
    "\n",
    "train_loader = torch.utils.data.DataLoader(train_dataset,\n",
    "                                           batch_size=batch_size, shuffle=True,\n",
    "                                           num_workers=0)\n",
    "\n",
    "validate_dataset = datasets.ImageFolder(root=val_root,\n",
    "                                    transform=data_transform[\"val\"])\n",
    "\n",
    "validate_loader = torch.utils.data.DataLoader(validate_dataset,\n",
    "                                              4, shuffle=True,\n",
    "                                              num_workers=0)\n",
    "\n",
    "train_num = len(train_dataset)\n",
    "val_num = len(validate_dataset)\n",
    "print(\"训练样本数：\" , train_num)\n",
    "print(\"验证样本数：\" , val_num)"
   ]
  },
  {
   "cell_type": "code",
   "execution_count": 9,
   "id": "743eda62",
   "metadata": {},
   "outputs": [],
   "source": [
    "class DenseLayer(nn.Module):\n",
    "    expansion = 4\n",
    "    \n",
    "    def __init__(self, in_channels, growth_rate):\n",
    "        super(DenseLayer, self).__init__()\n",
    "        zip_channels = self.expansion * growth_rate\n",
    "        self.features = nn.Sequential(\n",
    "            nn.BatchNorm2d(in_channels),\n",
    "            nn.ReLU(inplace=True),\n",
    "            nn.Conv2d(in_channels, zip_channels, kernel_size=1, bias=False),\n",
    "            nn.BatchNorm2d(zip_channels),\n",
    "            nn.ReLU(inplace=True),\n",
    "            nn.Conv2d(zip_channels, growth_rate, kernel_size=3, padding=1, bias=False)\n",
    "        )\n",
    "        \n",
    "    def forward(self, x):\n",
    "        out = self.features(x)\n",
    "        out = torch.cat([out, x], 1)\n",
    "        return out"
   ]
  },
  {
   "cell_type": "code",
   "execution_count": 10,
   "id": "120a003a",
   "metadata": {},
   "outputs": [],
   "source": [
    "class Transition(nn.Sequential):\n",
    "    def __init__(self, num_input_features, num_output_features):\n",
    "        super(Transition, self).__init__()\n",
    "        self.features = nn.Sequential(\n",
    "            nn.BatchNorm2d(num_input_features),\n",
    "            nn.ReLU(inplace=True),\n",
    "            nn.Conv2d(num_input_features, num_output_features,kernel_size=1, bias=False),\n",
    "            nn.AvgPool2d(kernel_size=2, stride=2)\n",
    "        )\n",
    "        \n",
    "    def forward(self, x):\n",
    "        out = self.features(x)\n",
    "        return out"
   ]
  },
  {
   "cell_type": "code",
   "execution_count": 11,
   "id": "72d25834",
   "metadata": {},
   "outputs": [],
   "source": [
    "class DenseNet121(nn.Module):\n",
    "    def __init__(self,growth_rate = 32,reduction = 0.5,num_classes=1000):\n",
    "        super(DenseNet121, self).__init__()\n",
    "        self.growth_rate = growth_rate\n",
    "        self.reduction = reduction\n",
    "        \n",
    "        self.features = nn.Sequential(OrderedDict([\n",
    "            ('conv0', nn.Conv2d(3, 64, kernel_size=7, stride=2,padding=3, bias=False)),\n",
    "            ('norm0', nn.BatchNorm2d(64)),\n",
    "            ('relu0', nn.ReLU(inplace=True)),\n",
    "            ('pool0', nn.MaxPool2d(kernel_size=3, stride=2, padding=1)),\n",
    "        ]))\n",
    "        \n",
    "        num_features = 2 * growth_rate\n",
    "        \n",
    "        num_blocks = (6, 12, 24, 16)\n",
    "        \n",
    "        self.layer1, num_features = self._make_dense_layer(num_features, num_blocks[0])\n",
    "        self.layer2, num_features = self._make_dense_layer(num_features, num_blocks[1])\n",
    "        self.layer3, num_features = self._make_dense_layer(num_features, num_blocks[2])\n",
    "        self.layer4, num_features = self._make_dense_layer(num_features, num_blocks[3], transition=False)\n",
    "                \n",
    "        self.bn = nn.BatchNorm2d(num_features)\n",
    "        self.classifier = nn.Linear(num_features,num_classes)\n",
    "        \n",
    "    def _make_dense_layer(self, in_channels, nblock, transition=True):\n",
    "        layers = []\n",
    "        for i in range(nblock):\n",
    "            layers += [DenseLayer(in_channels, self.growth_rate)]\n",
    "            in_channels += self.growth_rate\n",
    "        out_channels = in_channels\n",
    "        if transition:\n",
    "            out_channels = int(math.floor(in_channels * self.reduction))\n",
    "            layers += [Transition(in_channels, out_channels)]\n",
    "        return nn.Sequential(*layers), out_channels\n",
    "        \n",
    "    def forward(self,x):\n",
    "        out = self.features(x)\n",
    "        out = self.layer1(out)\n",
    "        out = self.layer2(out)\n",
    "        out = self.layer3(out)\n",
    "        out = self.layer4(out)\n",
    "        out = self.bn(out)\n",
    "        out = F.relu(out, inplace=True)\n",
    "        out = F.adaptive_avg_pool2d(out, (1, 1))\n",
    "        out = out.view(out.size(0), -1)\n",
    "        out = self.classifier(out)\n",
    "        return out"
   ]
  },
  {
   "cell_type": "code",
   "execution_count": 12,
   "id": "7183d781",
   "metadata": {},
   "outputs": [],
   "source": [
    "net = DenseNet121()\n",
    "\n",
    "model_weights_path = os.path.join(MODEL_PATH, 'densenet121-a639ec97.pth')\n",
    "missing_keys, unexpected_keys = net.load_state_dict(torch.load(model_weights_path), strict=False)"
   ]
  },
  {
   "cell_type": "code",
   "execution_count": 13,
   "id": "64f378cc",
   "metadata": {},
   "outputs": [],
   "source": [
    "for parma in net.parameters():\n",
    "    parma.requires_grad = False    \n",
    "\n",
    "net.classifier = nn.Sequential(nn.Linear(1024, 256),\n",
    "                                nn.ReLU(inplace=True),\n",
    "                                nn.Linear(256, 5)\n",
    "                                )\n",
    "        \n",
    "net.to(device)\n",
    "\n",
    "if device == 'cuda':\n",
    "    net = nn.DataParallel(net)\n",
    "    torch.backends.cudnn.benchmark = True"
   ]
  },
  {
   "cell_type": "code",
   "execution_count": 14,
   "id": "f4127bb8",
   "metadata": {},
   "outputs": [
    {
     "name": "stderr",
     "output_type": "stream",
     "text": [
      "C:\\ProgramData\\Anaconda3\\lib\\site-packages\\torch\\nn\\functional.py:718: UserWarning: Named tensors and all their associated APIs are an experimental feature and subject to change. Please do not use them for anything important until they are released as stable. (Triggered internally at  ..\\c10/core/TensorImpl.h:1156.)\n",
      "  return torch.max_pool2d(input, kernel_size, stride, padding, dilation, ceil_mode)\n"
     ]
    },
    {
     "name": "stdout",
     "output_type": "stream",
     "text": [
      "torch.Size([1, 5])\n"
     ]
    }
   ],
   "source": [
    "x = torch.randn(1, 3, 224, 224).to(device)\n",
    "y = net(x)\n",
    "print(y.shape)"
   ]
  },
  {
   "cell_type": "code",
   "execution_count": 15,
   "id": "c1f9d9c9",
   "metadata": {},
   "outputs": [],
   "source": [
    "def confusion_matrix(preds, labels, conf_matrix):\n",
    "    for p, t in zip(preds, labels):\n",
    "        conf_matrix[p, t] += 1\n",
    "    return conf_matrix\n",
    "\n",
    "def plot_confusion_matrix(cm, classes, normalize=False, title='Confusion matrix', cmap=plt.cm.Blues):\n",
    "    \n",
    "    if normalize:\n",
    "        cm = cm.astype('float') / cm.sum(axis=1)[:, np.newaxis]\n",
    "        print(\"Normalized confusion matrix\")\n",
    "    else:\n",
    "        print('Confusion matrix, without normalization')\n",
    "    print(cm)\n",
    "    plt.imshow(cm, interpolation='nearest', cmap=cmap)\n",
    "    plt.title(title)\n",
    "    plt.colorbar()\n",
    "    tick_marks = np.arange(len(classes))\n",
    "    plt.xticks(tick_marks, classes, rotation=90)\n",
    "    plt.yticks(tick_marks, classes)\n",
    "    \n",
    "\n",
    "    plt.axis(\"equal\")\n",
    "    ax = plt.gca() \n",
    "    left, right = plt.xlim()  \n",
    "    ax.spines['left'].set_position(('data', left))\n",
    "    ax.spines['right'].set_position(('data', right))\n",
    "    for edge_i in ['top', 'bottom', 'right', 'left']:\n",
    "        ax.spines[edge_i].set_edgecolor(\"white\")\n",
    "\n",
    "    thresh = cm.max() / 2.\n",
    "    for i, j in itertools.product(range(cm.shape[0]), range(cm.shape[1])):\n",
    "        num = '{:.2f}'.format(cm[i, j]) if normalize else int(cm[i, j])\n",
    "        plt.text(j, i, num,\n",
    "                 verticalalignment='center',\n",
    "                 horizontalalignment=\"center\",\n",
    "                 color=\"white\" if num > thresh else \"black\")\n",
    "    plt.ylabel('True label')\n",
    "    plt.xlabel('Predicted label')\n",
    "    plt.show()\n",
    "    "
   ]
  },
  {
   "cell_type": "code",
   "execution_count": 16,
   "id": "c00449b1",
   "metadata": {},
   "outputs": [],
   "source": [
    "def train(epoch):\n",
    "    net.train()\n",
    "    train_loss = 0\n",
    "    correct = 0\n",
    "    total = 0\n",
    "    t1 = time.perf_counter()\n",
    "    for step, (inputs, targets) in enumerate(train_loader):\n",
    "        inputs, targets = inputs.to(device), targets.to(device)\n",
    "        optimizer.zero_grad()\n",
    "        outputs = net(inputs)\n",
    "        loss = criterion(outputs, targets)\n",
    "        loss.backward()\n",
    "        optimizer.step()\n",
    "\n",
    "        train_loss += loss.item()\n",
    "        _, predicted = outputs.max(1)\n",
    "        total += targets.size(0)\n",
    "        correct += predicted.eq(targets).sum().item()\n",
    "        \n",
    "        rate = (step + 1) / len(train_loader)\n",
    "        a = \"*\" * int(rate * 50)\n",
    "        b = \".\" * int((1 - rate) * 50)\n",
    "        print(\"\\rEpoch {}: {:^3.0f}%[{}->{}]\".format(epoch, int(rate * 100), a, b), end=\"\")\n",
    "    print('running time: %.3f' % (time.perf_counter() - t1))\n",
    "    acc = 100.*correct/total\n",
    "    loss = train_loss / step\n",
    "    print('train loss: %.6f, acc: %.3f%% (%d/%d)' % (loss, acc, correct, total))\n",
    "    return loss,acc/100"
   ]
  },
  {
   "cell_type": "code",
   "execution_count": 17,
   "id": "68632532",
   "metadata": {},
   "outputs": [],
   "source": [
    "def test(epoch):\n",
    "    net.eval()\n",
    "    test_loss = 0\n",
    "    correct = 0\n",
    "    total = 0\n",
    "    with torch.no_grad():\n",
    "        for step, (inputs, targets) in enumerate(validate_loader):\n",
    "            inputs, targets = inputs.to(device), targets.to(device)\n",
    "            outputs = net(inputs)\n",
    "            loss = criterion(outputs, targets)\n",
    "\n",
    "            test_loss += loss.item()\n",
    "            _, predicted = outputs.max(1)\n",
    "            total += targets.size(0)\n",
    "            correct += predicted.eq(targets).sum().item()\n",
    "    acc = 100.*correct/total\n",
    "    loss = test_loss / step\n",
    "    print('test loss: %.6f, acc: %.3f%% (%d/%d)' % (loss, acc, correct, total))\n",
    "    return loss,acc/100"
   ]
  },
  {
   "cell_type": "code",
   "execution_count": 18,
   "id": "4b524927",
   "metadata": {},
   "outputs": [],
   "source": [
    "epoches = 30\n",
    "lr = 0.01\n",
    "momentum = 0.9\n",
    "weight_decay = 1e-4\n",
    "\n",
    "criterion = nn.CrossEntropyLoss()\n",
    "optimizer = optim.SGD(net.parameters(), lr=lr, momentum=momentum, weight_decay=weight_decay)\n",
    "scheduler = optim.lr_scheduler.MultiStepLR(optimizer, milestones=[10, 20])"
   ]
  },
  {
   "cell_type": "code",
   "execution_count": 19,
   "id": "5ca63829",
   "metadata": {},
   "outputs": [],
   "source": [
    "save_path = './generated/DenseNet121.pth'\n",
    "train_losses = []\n",
    "train_accs= []\n",
    "test_losses =[]\n",
    "test_accs =[]"
   ]
  },
  {
   "cell_type": "code",
   "execution_count": 20,
   "id": "f36421cf",
   "metadata": {
    "scrolled": true
   },
   "outputs": [
    {
     "name": "stdout",
     "output_type": "stream",
     "text": [
      "Epoch 0: 100%[**************************************************->]running time: 27.629\n",
      "train loss: 1.515502, acc: 37.417% (1237/3306)\n",
      "test loss: 1.444201, acc: 42.308% (154/364)\n",
      "Epoch 1: 100%[**************************************************->]running time: 27.467\n",
      "train loss: 1.277020, acc: 48.820% (1614/3306)\n",
      "test loss: 1.161603, acc: 56.868% (207/364)\n",
      "Epoch 2: 100%[**************************************************->]running time: 27.038\n",
      "train loss: 1.172512, acc: 53.811% (1779/3306)\n",
      "test loss: 1.067903, acc: 59.890% (218/364)\n",
      "Epoch 3: 100%[**************************************************->]running time: 27.042\n",
      "train loss: 1.156329, acc: 55.445% (1833/3306)\n",
      "test loss: 1.057408, acc: 58.791% (214/364)\n",
      "Epoch 4: 100%[**************************************************->]running time: 27.368\n",
      "train loss: 1.104006, acc: 56.745% (1876/3306)\n",
      "test loss: 0.978777, acc: 60.440% (220/364)\n",
      "Epoch 5: 100%[**************************************************->]running time: 26.720\n",
      "train loss: 1.062917, acc: 59.649% (1972/3306)\n",
      "test loss: 1.090647, acc: 55.769% (203/364)\n",
      "Epoch 6: 100%[**************************************************->]running time: 26.648\n",
      "train loss: 1.072829, acc: 58.258% (1926/3306)\n",
      "test loss: 0.965930, acc: 63.736% (232/364)\n",
      "Epoch 7: 100%[**************************************************->]running time: 26.742\n",
      "train loss: 1.055198, acc: 59.770% (1976/3306)\n",
      "test loss: 0.997282, acc: 61.538% (224/364)\n",
      "Epoch 8: 100%[**************************************************->]running time: 26.819\n",
      "train loss: 1.036408, acc: 60.315% (1994/3306)\n",
      "test loss: 0.980951, acc: 65.934% (240/364)\n",
      "Epoch 9: 100%[**************************************************->]running time: 26.721\n",
      "train loss: 1.018204, acc: 61.797% (2043/3306)\n",
      "test loss: 0.917207, acc: 67.033% (244/364)\n",
      "Epoch 10: 100%[**************************************************->]running time: 26.618\n",
      "train loss: 0.946829, acc: 65.094% (2152/3306)\n",
      "test loss: 0.883575, acc: 67.857% (247/364)\n",
      "Epoch 11: 100%[**************************************************->]running time: 26.707\n",
      "train loss: 0.924887, acc: 65.910% (2179/3306)\n",
      "test loss: 0.872235, acc: 66.758% (243/364)\n",
      "Epoch 12: 100%[**************************************************->]running time: 26.781\n",
      "train loss: 0.928891, acc: 65.971% (2181/3306)\n",
      "test loss: 0.876149, acc: 66.758% (243/364)\n",
      "Epoch 13: 100%[**************************************************->]running time: 26.819\n",
      "train loss: 0.932864, acc: 65.457% (2164/3306)\n",
      "test loss: 0.873514, acc: 68.132% (248/364)\n",
      "Epoch 14: 100%[**************************************************->]running time: 26.926\n",
      "train loss: 0.930449, acc: 65.880% (2178/3306)\n",
      "test loss: 0.867760, acc: 68.132% (248/364)\n",
      "Epoch 15: 100%[**************************************************->]running time: 27.563\n",
      "train loss: 0.921110, acc: 65.789% (2175/3306)\n",
      "test loss: 0.875433, acc: 67.308% (245/364)\n",
      "Epoch 16: 100%[**************************************************->]running time: 28.500\n",
      "train loss: 0.923829, acc: 66.636% (2203/3306)\n",
      "test loss: 0.870796, acc: 66.758% (243/364)\n",
      "Epoch 17: 100%[**************************************************->]running time: 27.545\n",
      "train loss: 0.909524, acc: 65.366% (2161/3306)\n",
      "test loss: 0.866664, acc: 67.582% (246/364)\n",
      "Epoch 18: 100%[**************************************************->]running time: 27.636\n",
      "train loss: 0.917028, acc: 65.699% (2172/3306)\n",
      "test loss: 0.863477, acc: 69.505% (253/364)\n",
      "Epoch 19: 100%[**************************************************->]running time: 27.229\n",
      "train loss: 0.917844, acc: 66.485% (2198/3306)\n",
      "test loss: 0.867644, acc: 67.308% (245/364)\n",
      "Epoch 20: 100%[**************************************************->]running time: 27.443\n",
      "train loss: 0.911115, acc: 66.455% (2197/3306)\n",
      "test loss: 0.861496, acc: 69.231% (252/364)\n",
      "Epoch 21: 100%[**************************************************->]running time: 28.026\n",
      "train loss: 0.910382, acc: 66.515% (2199/3306)\n",
      "test loss: 0.859688, acc: 68.681% (250/364)\n",
      "Epoch 22: 100%[**************************************************->]running time: 27.520\n",
      "train loss: 0.908809, acc: 65.578% (2168/3306)\n",
      "test loss: 0.862093, acc: 68.681% (250/364)\n",
      "Epoch 23: 100%[**************************************************->]running time: 26.892\n",
      "train loss: 0.894614, acc: 67.030% (2216/3306)\n",
      "test loss: 0.860772, acc: 68.132% (248/364)\n",
      "Epoch 24: 100%[**************************************************->]running time: 27.348\n",
      "train loss: 0.896936, acc: 66.878% (2211/3306)\n",
      "test loss: 0.862434, acc: 68.132% (248/364)\n",
      "Epoch 25: 100%[**************************************************->]running time: 27.020\n",
      "train loss: 0.908325, acc: 66.757% (2207/3306)\n",
      "test loss: 0.860020, acc: 68.407% (249/364)\n",
      "Epoch 26: 100%[**************************************************->]running time: 27.531\n",
      "train loss: 0.906803, acc: 66.304% (2192/3306)\n",
      "test loss: 0.860022, acc: 69.505% (253/364)\n",
      "Epoch 27: 100%[**************************************************->]running time: 27.840\n",
      "train loss: 0.916878, acc: 67.211% (2222/3306)\n",
      "test loss: 0.860482, acc: 70.330% (256/364)\n",
      "Epoch 28: 100%[**************************************************->]running time: 27.544\n",
      "train loss: 0.911840, acc: 66.515% (2199/3306)\n",
      "test loss: 0.857327, acc: 69.505% (253/364)\n",
      "Epoch 29: 100%[**************************************************->]running time: 27.527\n",
      "train loss: 0.901772, acc: 66.909% (2212/3306)\n",
      "test loss: 0.860987, acc: 68.681% (250/364)\n"
     ]
    }
   ],
   "source": [
    "for epoch in range(epoches):\n",
    "    train_loss,train_acc = train(epoch)\n",
    "    test_loss,test_acc = test(epoch)\n",
    "    train_losses.append(train_loss)\n",
    "    train_accs.append(train_acc)\n",
    "    test_losses.append(test_loss)\n",
    "    test_accs.append(test_acc)\n",
    "    scheduler.step()"
   ]
  },
  {
   "cell_type": "code",
   "execution_count": 21,
   "id": "c930ef88",
   "metadata": {},
   "outputs": [
    {
     "data": {
      "image/png": "[encoded data removed]",
      "text/plain": [
       "<Figure size 432x288 with 1 Axes>"
      ]
     },
     "metadata": {
      "needs_background": "light"
     },
     "output_type": "display_data"
    }
   ],
   "source": [
    "epoches = [x for x in range(epoches)]\n",
    "plt.plot(epoches, train_losses, epoches, train_accs)\n",
    "plt.xlabel('Epoches')\n",
    "plt.ylabel('Train CrossEntropy Loss | Accuracy')\n",
    "plt.show()"
   ]
  },
  {
   "cell_type": "code",
   "execution_count": 22,
   "id": "f2b7fcf3",
   "metadata": {},
   "outputs": [
    {
     "data": {
      "image/png": "[encoded data removed]",
      "text/plain": [
       "<Figure size 432x288 with 1 Axes>"
      ]
     },
     "metadata": {
      "needs_background": "light"
     },
     "output_type": "display_data"
    }
   ],
   "source": [
    "plt.plot(epoches, test_losses, epoches, test_accs)\n",
    "plt.xlabel('Epoches')\n",
    "plt.ylabel('Test CrossEntropy Loss | Accuracy')\n",
    "plt.show()"
   ]
  },
  {
   "cell_type": "code",
   "execution_count": 23,
   "id": "7e7e0476",
   "metadata": {},
   "outputs": [
    {
     "name": "stdout",
     "output_type": "stream",
     "text": [
      "Accuracy of the network on the 10000 test images: 68 %\n",
      "Accuracy of daisy : 60 %\n",
      "Accuracy of dandelion : 67 %\n",
      "Accuracy of roses : 50 %\n",
      "Accuracy of sunflowers : 88 %\n",
      "Accuracy of tulips : 74 %\n"
     ]
    }
   ],
   "source": [
    "import itertools\n",
    "import numpy as np\n",
    "\n",
    "conf_matrix = torch.zeros(num_class, num_class)\n",
    "correct = 0\n",
    "total = 0\n",
    "class_correct = list(0. for i in range(num_class))\n",
    "class_total = list(0. for i in range(num_class))\n",
    "\n",
    "with torch.no_grad():\n",
    "    for data in validate_loader:\n",
    "        images, labels = data\n",
    "        images, labels = images.to(device), labels.to(device)\n",
    "        outputs = net(images)\n",
    "        predict = torch.max(outputs, dim=1)[1]\n",
    "        conf_matrix = confusion_matrix(predict, labels=labels, conf_matrix=conf_matrix)\n",
    "        total += labels.size(0)\n",
    "        correct += (predict == labels).sum().item()\n",
    "        c = (predict == labels).squeeze()\n",
    "        for i in range(4):\n",
    "            label = labels[i]\n",
    "            class_correct[label] += c[i].item()\n",
    "            class_total[label] += 1\n",
    "\n",
    "print('Accuracy of the network on the 10000 test images: %d %%' % (100 * correct / total))\n",
    "for i in range(5):\n",
    "    print('Accuracy of %5s : %2d %%' % (\n",
    "        flower_class[i], 100 * class_correct[i] / class_total[i]))"
   ]
  },
  {
   "cell_type": "code",
   "execution_count": 24,
   "id": "4089b2fb",
   "metadata": {},
   "outputs": [
    {
     "name": "stdout",
     "output_type": "stream",
     "text": [
      "Confusion matrix, without normalization\n",
      "[[38.  7.  5.  1.  7.]\n",
      " [15. 60.  5.  4.  4.]\n",
      " [ 3.  1. 32.  0.  4.]\n",
      " [ 1. 13.  4. 61.  5.]\n",
      " [ 6.  8. 18.  3. 59.]]\n"
     ]
    },
    {
     "data": {
      "image/png": "[encoded data removed]",
      "text/plain": [
       "<Figure size 432x288 with 2 Axes>"
      ]
     },
     "metadata": {
      "needs_background": "light"
     },
     "output_type": "display_data"
    }
   ],
   "source": [
    "plot_confusion_matrix(conf_matrix.numpy(), classes=flower_class, normalize=False,\n",
    "                                 title='Normalized confusion matrix')"
   ]
  },
  {
   "cell_type": "code",
   "execution_count": null,
   "id": "8bebdc95",
   "metadata": {},
   "outputs": [],
   "source": []
  },
  {
   "cell_type": "code",
   "execution_count": null,
   "id": "d379714b",
   "metadata": {},
   "outputs": [],
   "source": []
  }
 ],
 "metadata": {
  "kernelspec": {
   "display_name": "Python 3",
   "language": "python",
   "name": "python3"
  },
  "language_info": {
   "codemirror_mode": {
    "name": "ipython",
    "version": 3
   },
   "file_extension": ".py",
   "mimetype": "text/x-python",
   "name": "python",
   "nbconvert_exporter": "python",
   "pygments_lexer": "ipython3",
   "version": "3.8.8"
  }
 },
 "nbformat": 4,
 "nbformat_minor": 5
}
