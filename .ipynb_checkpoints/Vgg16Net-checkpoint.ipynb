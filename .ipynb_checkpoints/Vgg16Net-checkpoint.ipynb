{
 "cells": [
  {
   "cell_type": "code",
   "execution_count": 1,
   "id": "be0cfcf1",
   "metadata": {},
   "outputs": [],
   "source": [
    "import os\n",
    "os.environ[\"KMP_DUPLICATE_LIB_OK\"]=\"TRUE\"\n",
    "\n",
    "import torch\n",
    "import torch.nn as nn\n",
    "import torch.optim as optim\n",
    "\n",
    "from torchvision import transforms, datasets\n",
    "\n",
    "import time\n",
    "\n",
    "%matplotlib inline\n",
    "import matplotlib as mpl\n",
    "import matplotlib.pyplot as plt\n",
    "mpl.rc('axes', labelsize = 14)\n",
    "mpl.rc('xtick', labelsize = 12)\n",
    "mpl.rc('ytick', labelsize = 12)\n",
    "\n",
    "PROJECT_ROOT_DIR = '.'\n",
    "DATASET_NAME = 'flower_data'\n",
    "DATASETS_PATH = os.path.join(PROJECT_ROOT_DIR, 'datasets')\n",
    "DATASET_PATH = os.path.join(DATASETS_PATH, DATASET_NAME)\n",
    "MODEL_PATH = os.path.join(PROJECT_ROOT_DIR, 'pretained')"
   ]
  },
  {
   "cell_type": "code",
   "execution_count": 2,
   "id": "48b964b3",
   "metadata": {},
   "outputs": [
    {
     "data": {
      "text/plain": [
       "device(type='cuda', index=0)"
      ]
     },
     "execution_count": 2,
     "metadata": {},
     "output_type": "execute_result"
    }
   ],
   "source": [
    "device = torch.device('cuda:0' if torch.cuda.is_available() else 'cpu')\n",
    "device"
   ]
  },
  {
   "cell_type": "code",
   "execution_count": 3,
   "id": "7e39116c",
   "metadata": {},
   "outputs": [],
   "source": [
    "from shutil import copy, rmtree\n",
    "\n",
    "def mk_file(file_path: str):\n",
    "    if os.path.exists(file_path):\n",
    "        rmtree(file_path)\n",
    "    os.makedirs(file_path)"
   ]
  },
  {
   "cell_type": "code",
   "execution_count": 4,
   "id": "54ecc89d",
   "metadata": {},
   "outputs": [
    {
     "name": "stdout",
     "output_type": "stream",
     "text": [
      "数据集类别： ['daisy', 'dandelion', 'roses', 'sunflowers', 'tulips']\n"
     ]
    }
   ],
   "source": [
    "original_dataset = os.path.join(DATASET_PATH, \"flower_photos\")\n",
    "\n",
    "assert os.path.exists(original_dataset)\n",
    "flower_class = [cla for cla in os.listdir(original_dataset)\n",
    "                    if os.path.isdir(os.path.join(original_dataset, cla))]\n",
    "num_class = len(flower_class)\n",
    "print(\"数据集类别：\" , flower_class)"
   ]
  },
  {
   "cell_type": "code",
   "execution_count": 5,
   "id": "6ddfd1cb",
   "metadata": {},
   "outputs": [],
   "source": [
    "# 建立保存训练集的文件夹\n",
    "train_root = os.path.join(DATASET_PATH, \"train\")\n",
    "mk_file(train_root)\n",
    "for cla in flower_class:\n",
    "    # 建立每个类别对应的文件夹\n",
    "    mk_file(os.path.join(train_root, cla))\n",
    "        \n",
    "# 建立保存验证集的文件夹\n",
    "val_root = os.path.join(DATASET_PATH, \"val\")\n",
    "mk_file(val_root)\n",
    "for cla in flower_class:\n",
    "    # 建立每个类别对应的文件夹\n",
    "    mk_file(os.path.join(val_root, cla))"
   ]
  },
  {
   "cell_type": "code",
   "execution_count": 6,
   "id": "6d03e322",
   "metadata": {},
   "outputs": [
    {
     "name": "stdout",
     "output_type": "stream",
     "text": [
      "[daisy] 训练验证样本分离 [633/633]\n",
      "[dandelion] 训练验证样本分离 [898/898]\n",
      "[roses] 训练验证样本分离 [641/641]\n",
      "[sunflowers] 训练验证样本分离 [699/699]\n",
      "[tulips] 训练验证样本分离 [799/799]\n"
     ]
    }
   ],
   "source": [
    "import random\n",
    "\n",
    "split_rate = 0.1\n",
    "\n",
    "for cla in flower_class:\n",
    "    cla_path = os.path.join(original_dataset, cla)\n",
    "    images = os.listdir(cla_path)\n",
    "    num = len(images)\n",
    "    # 随机采样验证集的索引\n",
    "    eval_index = random.sample(images, k=int(num*split_rate))\n",
    "    for index, image in enumerate(images):\n",
    "        if image in eval_index:\n",
    "            # 将分配至验证集中的文件复制到相应目录\n",
    "            image_path = os.path.join(cla_path, image)\n",
    "            new_path = os.path.join(val_root, cla)\n",
    "            copy(image_path, new_path)\n",
    "        else:\n",
    "            # 将分配至训练集中的文件复制到相应目录\n",
    "            image_path = os.path.join(cla_path, image)\n",
    "            new_path = os.path.join(train_root, cla)\n",
    "            copy(image_path, new_path)\n",
    "        print(\"\\r[{}] 训练验证样本分离 [{}/{}]\".format(cla, index+1, num), end=\"\") \n",
    "    print()\n"
   ]
  },
  {
   "cell_type": "code",
   "execution_count": 7,
   "id": "2fce1c42",
   "metadata": {},
   "outputs": [],
   "source": [
    "data_transform = {\n",
    "    \"train\": transforms.Compose([transforms.RandomResizedCrop(224),\n",
    "                                 transforms.RandomHorizontalFlip(),\n",
    "                                 transforms.ToTensor(),\n",
    "                                 transforms.Normalize((0.5, 0.5, 0.5), (0.5, 0.5, 0.5))]),\n",
    "    \"val\": transforms.Compose([transforms.Resize((224, 224)),  \n",
    "                               transforms.ToTensor(),\n",
    "                               transforms.Normalize((0.5, 0.5, 0.5), (0.5, 0.5, 0.5))])}"
   ]
  },
  {
   "cell_type": "code",
   "execution_count": 8,
   "id": "a23d6d30",
   "metadata": {},
   "outputs": [
    {
     "name": "stdout",
     "output_type": "stream",
     "text": [
      "训练样本数： 3306\n",
      "验证样本数： 364\n"
     ]
    }
   ],
   "source": [
    "batch_size = 32\n",
    "\n",
    "train_dataset = datasets.ImageFolder(root=train_root,\n",
    "                                     transform=data_transform[\"train\"])\n",
    "\n",
    "train_loader = torch.utils.data.DataLoader(train_dataset,\n",
    "                                           batch_size=batch_size, shuffle=True,\n",
    "                                           num_workers=0)\n",
    "\n",
    "validate_dataset = datasets.ImageFolder(root=val_root,\n",
    "                                   transform=data_transform[\"val\"])\n",
    "\n",
    "validate_loader = torch.utils.data.DataLoader(validate_dataset,\n",
    "                                              batch_size=4, shuffle=True,\n",
    "                                              num_workers=0)\n",
    "\n",
    "train_num = len(train_dataset)\n",
    "val_num = len(validate_dataset)\n",
    "print(\"训练样本数：\" , train_num)\n",
    "print(\"验证样本数：\" , val_num)"
   ]
  },
  {
   "cell_type": "code",
   "execution_count": 9,
   "id": "bc5b3a21",
   "metadata": {},
   "outputs": [],
   "source": [
    "class VGG(nn.Module):\n",
    "    def __init__(self, features, num_classes=1000, init_weights=True):\n",
    "        super(VGG, self).__init__()\n",
    "        self.features = features\n",
    "        self.avgpool = nn.AdaptiveAvgPool2d((7, 7))\n",
    "        self.classifier = nn.Sequential(\n",
    "            nn.Linear(512 * 7 * 7, 4096),\n",
    "            nn.ReLU(True),\n",
    "            nn.Dropout(),\n",
    "            nn.Linear(4096, 4096),\n",
    "            nn.ReLU(True),\n",
    "            nn.Dropout(),\n",
    "            nn.Linear(4096, num_classes),\n",
    "        )\n",
    "        if init_weights:\n",
    "            self._initialize_weights()\n",
    "\n",
    "    def forward(self, x):\n",
    "        x = self.features(x)\n",
    "        x = self.avgpool(x)\n",
    "        x = torch.flatten(x, 1)\n",
    "        x = self.classifier(x)\n",
    "        return x\n",
    "\n",
    "    def _initialize_weights(self):\n",
    "        for m in self.modules():\n",
    "            if isinstance(m, nn.Conv2d):\n",
    "                nn.init.kaiming_normal_(m.weight, mode='fan_out', nonlinearity='relu')\n",
    "                if m.bias is not None:\n",
    "                    nn.init.constant_(m.bias, 0)\n",
    "            elif isinstance(m, nn.BatchNorm2d):\n",
    "                nn.init.constant_(m.weight, 1)\n",
    "                nn.init.constant_(m.bias, 0)\n",
    "            elif isinstance(m, nn.Linear):\n",
    "                nn.init.normal_(m.weight, 0, 0.01)\n",
    "                nn.init.constant_(m.bias, 0)\n",
    "\n",
    "\n",
    "def make_layers(cfg, batch_norm=False):\n",
    "    layers = []\n",
    "    in_channels = 3\n",
    "    for v in cfg:\n",
    "        if v == 'M':\n",
    "            layers += [nn.MaxPool2d(kernel_size=2, stride=2)]\n",
    "        else:\n",
    "            conv2d = nn.Conv2d(in_channels, v, kernel_size=3, padding=1)\n",
    "            if batch_norm:\n",
    "                layers += [conv2d, nn.BatchNorm2d(v), nn.ReLU(inplace=True)]\n",
    "            else:\n",
    "                layers += [conv2d, nn.ReLU(inplace=True)]\n",
    "            in_channels = v\n",
    "    return nn.Sequential(*layers)\n",
    "\n",
    "def vgg16():\n",
    "    cfg = [64, 64, 'M', 128, 128, 'M', 256, 256, 256, 'M', 512, 512, 512, 'M', 512, 512, 512, 'M']\n",
    "    model = VGG(make_layers(cfg, False))\n",
    "    return model"
   ]
  },
  {
   "cell_type": "code",
   "execution_count": 10,
   "id": "9d18285e",
   "metadata": {},
   "outputs": [],
   "source": [
    "net = vgg16()\n",
    "\n",
    "model_weights_path = os.path.join(MODEL_PATH, 'vgg16-397923af.pth')\n",
    "missing_keys, unexpected_keys = net.load_state_dict(torch.load(model_weights_path), strict=False)"
   ]
  },
  {
   "cell_type": "code",
   "execution_count": 11,
   "id": "f330e643",
   "metadata": {},
   "outputs": [
    {
     "name": "stdout",
     "output_type": "stream",
     "text": [
      "VGG(\n",
      "  (features): Sequential(\n",
      "    (0): Conv2d(3, 64, kernel_size=(3, 3), stride=(1, 1), padding=(1, 1))\n",
      "    (1): ReLU(inplace=True)\n",
      "    (2): Conv2d(64, 64, kernel_size=(3, 3), stride=(1, 1), padding=(1, 1))\n",
      "    (3): ReLU(inplace=True)\n",
      "    (4): MaxPool2d(kernel_size=2, stride=2, padding=0, dilation=1, ceil_mode=False)\n",
      "    (5): Conv2d(64, 128, kernel_size=(3, 3), stride=(1, 1), padding=(1, 1))\n",
      "    (6): ReLU(inplace=True)\n",
      "    (7): Conv2d(128, 128, kernel_size=(3, 3), stride=(1, 1), padding=(1, 1))\n",
      "    (8): ReLU(inplace=True)\n",
      "    (9): MaxPool2d(kernel_size=2, stride=2, padding=0, dilation=1, ceil_mode=False)\n",
      "    (10): Conv2d(128, 256, kernel_size=(3, 3), stride=(1, 1), padding=(1, 1))\n",
      "    (11): ReLU(inplace=True)\n",
      "    (12): Conv2d(256, 256, kernel_size=(3, 3), stride=(1, 1), padding=(1, 1))\n",
      "    (13): ReLU(inplace=True)\n",
      "    (14): Conv2d(256, 256, kernel_size=(3, 3), stride=(1, 1), padding=(1, 1))\n",
      "    (15): ReLU(inplace=True)\n",
      "    (16): MaxPool2d(kernel_size=2, stride=2, padding=0, dilation=1, ceil_mode=False)\n",
      "    (17): Conv2d(256, 512, kernel_size=(3, 3), stride=(1, 1), padding=(1, 1))\n",
      "    (18): ReLU(inplace=True)\n",
      "    (19): Conv2d(512, 512, kernel_size=(3, 3), stride=(1, 1), padding=(1, 1))\n",
      "    (20): ReLU(inplace=True)\n",
      "    (21): Conv2d(512, 512, kernel_size=(3, 3), stride=(1, 1), padding=(1, 1))\n",
      "    (22): ReLU(inplace=True)\n",
      "    (23): MaxPool2d(kernel_size=2, stride=2, padding=0, dilation=1, ceil_mode=False)\n",
      "    (24): Conv2d(512, 512, kernel_size=(3, 3), stride=(1, 1), padding=(1, 1))\n",
      "    (25): ReLU(inplace=True)\n",
      "    (26): Conv2d(512, 512, kernel_size=(3, 3), stride=(1, 1), padding=(1, 1))\n",
      "    (27): ReLU(inplace=True)\n",
      "    (28): Conv2d(512, 512, kernel_size=(3, 3), stride=(1, 1), padding=(1, 1))\n",
      "    (29): ReLU(inplace=True)\n",
      "    (30): MaxPool2d(kernel_size=2, stride=2, padding=0, dilation=1, ceil_mode=False)\n",
      "  )\n",
      "  (avgpool): AdaptiveAvgPool2d(output_size=(7, 7))\n",
      "  (classifier): Sequential(\n",
      "    (0): Linear(in_features=25088, out_features=4096, bias=True)\n",
      "    (1): ReLU(inplace=True)\n",
      "    (2): Dropout(p=0.5, inplace=False)\n",
      "    (3): Linear(in_features=4096, out_features=4096, bias=True)\n",
      "    (4): ReLU(inplace=True)\n",
      "    (5): Dropout(p=0.5, inplace=False)\n",
      "    (6): Linear(in_features=4096, out_features=1000, bias=True)\n",
      "  )\n",
      ")\n"
     ]
    }
   ],
   "source": [
    "print(net)"
   ]
  },
  {
   "cell_type": "code",
   "execution_count": 12,
   "id": "fdf8bad8",
   "metadata": {},
   "outputs": [],
   "source": [
    "for parma in net.parameters():\n",
    "    parma.requires_grad = False\n",
    "\n",
    "net.classifier = torch.nn.Sequential(torch.nn.Linear(25088, 1024),\n",
    "                                       torch.nn.ReLU(inplace=True),\n",
    "                                       torch.nn.Dropout(p=0.5),\n",
    "                                       torch.nn.Linear(1024, 1024),\n",
    "                                       torch.nn.ReLU(inplace=True),\n",
    "                                       torch.nn.Dropout(p=0.5),\n",
    "                                       torch.nn.Linear(1024, 5))\n",
    "    \n",
    "net = net.to(device)"
   ]
  },
  {
   "cell_type": "code",
   "execution_count": 13,
   "id": "6366a650",
   "metadata": {},
   "outputs": [
    {
     "name": "stderr",
     "output_type": "stream",
     "text": [
      "C:\\ProgramData\\Anaconda3\\lib\\site-packages\\torch\\nn\\functional.py:718: UserWarning: Named tensors and all their associated APIs are an experimental feature and subject to change. Please do not use them for anything important until they are released as stable. (Triggered internally at  ..\\c10/core/TensorImpl.h:1156.)\n",
      "  return torch.max_pool2d(input, kernel_size, stride, padding, dilation, ceil_mode)\n"
     ]
    },
    {
     "name": "stdout",
     "output_type": "stream",
     "text": [
      "train loss: 100%[**************************************************->]0.327\n",
      "40.3994249\n",
      "[epoch 1] train_loss: 0.724  test_accuracy: 0.857\n",
      "train loss: 100%[**************************************************->]0.594\n",
      "39.1753868\n",
      "[epoch 2] train_loss: 0.508  test_accuracy: 0.876\n",
      "train loss: 100%[**************************************************->]0.375\n",
      "38.329899299999994\n",
      "[epoch 3] train_loss: 0.403  test_accuracy: 0.865\n",
      "train loss: 100%[**************************************************->]0.615\n",
      "38.6004044\n",
      "[epoch 4] train_loss: 0.386  test_accuracy: 0.854\n",
      "train loss: 100%[**************************************************->]0.199\n",
      "38.766361200000006\n",
      "[epoch 5] train_loss: 0.322  test_accuracy: 0.868\n",
      "train loss: 100%[**************************************************->]0.113\n",
      "39.350025699999975\n",
      "[epoch 6] train_loss: 0.318  test_accuracy: 0.879\n",
      "train loss: 100%[**************************************************->]0.244\n",
      "38.93989409999995\n",
      "[epoch 7] train_loss: 0.302  test_accuracy: 0.874\n",
      "train loss: 100%[**************************************************->]0.113\n",
      "39.25548789999999\n",
      "[epoch 8] train_loss: 0.310  test_accuracy: 0.879\n",
      "train loss: 100%[**************************************************->]0.014\n",
      "38.732798900000034\n",
      "[epoch 9] train_loss: 0.286  test_accuracy: 0.887\n",
      "train loss: 100%[**************************************************->]0.645\n",
      "39.18344760000002\n",
      "[epoch 10] train_loss: 0.281  test_accuracy: 0.885\n",
      "train loss: 100%[**************************************************->]0.361\n",
      "39.16299909999998\n",
      "[epoch 11] train_loss: 0.270  test_accuracy: 0.868\n",
      "train loss: 100%[**************************************************->]0.035\n",
      "39.64995929999998\n",
      "[epoch 12] train_loss: 0.233  test_accuracy: 0.879\n",
      "train loss: 100%[**************************************************->]0.705\n",
      "40.076502300000016\n",
      "[epoch 13] train_loss: 0.274  test_accuracy: 0.882\n",
      "train loss: 100%[**************************************************->]0.072\n",
      "40.861408700000084\n",
      "[epoch 14] train_loss: 0.254  test_accuracy: 0.876\n",
      "train loss: 100%[**************************************************->]0.325\n",
      "39.97321049999994\n",
      "[epoch 15] train_loss: 0.245  test_accuracy: 0.885\n",
      "train loss: 100%[**************************************************->]0.057\n",
      "39.425574900000015\n",
      "[epoch 16] train_loss: 0.238  test_accuracy: 0.887\n",
      "train loss: 100%[**************************************************->]0.522\n",
      "39.67555470000002\n",
      "[epoch 17] train_loss: 0.215  test_accuracy: 0.887\n",
      "train loss: 100%[**************************************************->]0.888\n",
      "39.348674200000005\n",
      "[epoch 18] train_loss: 0.239  test_accuracy: 0.893\n",
      "train loss: 100%[**************************************************->]0.241\n",
      "39.62102619999996\n",
      "[epoch 19] train_loss: 0.210  test_accuracy: 0.876\n",
      "train loss: 100%[**************************************************->]0.222\n",
      "39.25187330000006\n",
      "[epoch 20] train_loss: 0.223  test_accuracy: 0.896\n",
      "Finished Training\n"
     ]
    }
   ],
   "source": [
    "loss_function = nn.CrossEntropyLoss()\n",
    "optimizer = optim.Adam(net.parameters(), lr=0.0002)\n",
    "\n",
    "save_path = './generated/Vgg16Net.pth'\n",
    "best_acc = 0.0\n",
    "loss_val = []\n",
    "acc_scores = []\n",
    "for epoch in range(20):\n",
    "    \n",
    "    net.train()\n",
    "    running_loss = 0.0\n",
    "    t1 = time.perf_counter()\n",
    "    for step, data in enumerate(train_loader, start=0):\n",
    "        images, labels = data\n",
    "        images = images.to(device)\n",
    "        labels = labels.to(device)\n",
    "        optimizer.zero_grad()\n",
    "        outputs = net(images)\n",
    "        loss = loss_function(outputs, labels)\n",
    "        loss.backward()\n",
    "        optimizer.step()\n",
    "\n",
    "        # print statistics\n",
    "        running_loss += loss.item()\n",
    "        # print train process\n",
    "        rate = (step + 1) / len(train_loader)\n",
    "        a = \"*\" * int(rate * 50)\n",
    "        b = \".\" * int((1 - rate) * 50)\n",
    "        print(\"\\rtrain loss: {:^3.0f}%[{}->{}]{:.3f}\".format(int(rate * 100), a, b, loss), end=\"\")\n",
    "    print()\n",
    "    print(time.perf_counter() - t1)\n",
    "\n",
    "    # validate\n",
    "    net.eval()\n",
    "    acc = 0.0  \n",
    "    with torch.no_grad():\n",
    "        for val_data in validate_loader:\n",
    "            val_images, val_labels = val_data\n",
    "            outputs = net(val_images.to(device))\n",
    "            predict_y = torch.max(outputs, dim=1)[1]\n",
    "            acc += (predict_y == val_labels.to(device)).sum().item()\n",
    "        val_accurate = acc / val_num\n",
    "        if val_accurate > best_acc:\n",
    "            best_acc = val_accurate\n",
    "            torch.save(net.state_dict(), save_path)\n",
    "        print('[epoch %d] train_loss: %.3f  test_accuracy: %.3f' %\n",
    "            (epoch + 1, running_loss / step, val_accurate))\n",
    "        \n",
    "        loss_val.append(running_loss / step)    \n",
    "        acc_scores.append(val_accurate)\n",
    "\n",
    "print('Finished Training')"
   ]
  },
  {
   "cell_type": "code",
   "execution_count": 14,
   "id": "928e212f",
   "metadata": {},
   "outputs": [
    {
     "data": {
      "image/png": "[encoded data removed]",
      "text/plain": [
       "<Figure size 432x288 with 1 Axes>"
      ]
     },
     "metadata": {
      "needs_background": "light"
     },
     "output_type": "display_data"
    }
   ],
   "source": [
    "epoches = [x for x in range(20)]\n",
    "plt.plot(epoches, loss_val, epoches, acc_scores)\n",
    "plt.xlabel('Epoches')\n",
    "plt.ylabel('Sparse CrossEntropy Loss | Accuracy')\n",
    "plt.show()"
   ]
  },
  {
   "cell_type": "code",
   "execution_count": 15,
   "id": "4d260707",
   "metadata": {},
   "outputs": [],
   "source": [
    "def confusion_matrix(preds, labels, conf_matrix):\n",
    "    for p, t in zip(preds, labels):\n",
    "        conf_matrix[p, t] += 1\n",
    "    return conf_matrix\n",
    "\n",
    "def plot_confusion_matrix(cm, classes, normalize=False, title='Confusion matrix', cmap=plt.cm.Blues):\n",
    "    \n",
    "    if normalize:\n",
    "        cm = cm.astype('float') / cm.sum(axis=1)[:, np.newaxis]\n",
    "        print(\"Normalized confusion matrix\")\n",
    "    else:\n",
    "        print('Confusion matrix, without normalization')\n",
    "    print(cm)\n",
    "    plt.imshow(cm, interpolation='nearest', cmap=cmap)\n",
    "    plt.title(title)\n",
    "    plt.colorbar()\n",
    "    tick_marks = np.arange(len(classes))\n",
    "    plt.xticks(tick_marks, classes, rotation=90)\n",
    "    plt.yticks(tick_marks, classes)\n",
    "    \n",
    "\n",
    "    plt.axis(\"equal\")\n",
    "    ax = plt.gca() \n",
    "    left, right = plt.xlim()  \n",
    "    ax.spines['left'].set_position(('data', left))\n",
    "    ax.spines['right'].set_position(('data', right))\n",
    "    for edge_i in ['top', 'bottom', 'right', 'left']:\n",
    "        ax.spines[edge_i].set_edgecolor(\"white\")\n",
    "\n",
    "    thresh = cm.max() / 2.\n",
    "    for i, j in itertools.product(range(cm.shape[0]), range(cm.shape[1])):\n",
    "        num = '{:.2f}'.format(cm[i, j]) if normalize else int(cm[i, j])\n",
    "        plt.text(j, i, num,\n",
    "                 verticalalignment='center',\n",
    "                 horizontalalignment=\"center\",\n",
    "                 color=\"white\" if num > thresh else \"black\")\n",
    "    plt.ylabel('True label')\n",
    "    plt.xlabel('Predicted label')\n",
    "    plt.show()\n",
    "    "
   ]
  },
  {
   "cell_type": "code",
   "execution_count": 16,
   "id": "e2c3b601",
   "metadata": {},
   "outputs": [
    {
     "name": "stdout",
     "output_type": "stream",
     "text": [
      "Confusion matrix, without normalization\n",
      "[[57.  1.  0.  2.  1.]\n",
      " [ 4. 86.  1.  4.  1.]\n",
      " [ 2.  0. 54.  2.  3.]\n",
      " [ 0.  0.  1. 56.  1.]\n",
      " [ 0.  2.  8.  5. 73.]]\n"
     ]
    },
    {
     "data": {
      "image/png": "[encoded data removed]",
      "text/plain": [
       "<Figure size 432x288 with 2 Axes>"
      ]
     },
     "metadata": {
      "needs_background": "light"
     },
     "output_type": "display_data"
    }
   ],
   "source": [
    "import itertools\n",
    "import numpy as np\n",
    "\n",
    "conf_matrix = torch.zeros(num_class, num_class)\n",
    "\n",
    "with torch.no_grad():\n",
    "    for val_data in validate_loader:\n",
    "        val_images, val_labels = val_data\n",
    "        outputs = net(val_images.to(device))\n",
    "        predict_y = torch.max(outputs, dim=1)[1]\n",
    "        conf_matrix = confusion_matrix(predict_y, labels=val_labels, conf_matrix=conf_matrix)\n",
    "\n",
    "plot_confusion_matrix(conf_matrix.numpy(), classes=flower_class, normalize=False,\n",
    "                                 title='Normalized confusion matrix')"
   ]
  }
 ],
 "metadata": {
  "kernelspec": {
   "display_name": "Python 3",
   "language": "python",
   "name": "python3"
  },
  "language_info": {
   "codemirror_mode": {
    "name": "ipython",
    "version": 3
   },
   "file_extension": ".py",
   "mimetype": "text/x-python",
   "name": "python",
   "nbconvert_exporter": "python",
   "pygments_lexer": "ipython3",
   "version": "3.8.8"
  }
 },
 "nbformat": 4,
 "nbformat_minor": 5
}
