{
 "cells": [
  {
   "cell_type": "code",
   "execution_count": 1,
   "id": "b6fb8074",
   "metadata": {},
   "outputs": [],
   "source": [
    "import os\n",
    "os.environ[\"KMP_DUPLICATE_LIB_OK\"]=\"TRUE\"\n",
    "\n",
    "import torch\n",
    "import torch.nn as nn\n",
    "import torch.optim as optim\n",
    "\n",
    "from torchvision import transforms, datasets\n",
    "\n",
    "import time\n",
    "\n",
    "%matplotlib inline\n",
    "import matplotlib as mpl\n",
    "import matplotlib.pyplot as plt\n",
    "mpl.rc('axes', labelsize = 14)\n",
    "mpl.rc('xtick', labelsize = 12)\n",
    "mpl.rc('ytick', labelsize = 12)\n",
    "\n",
    "\n",
    "PROJECT_ROOT_DIR = '.'\n",
    "DATASET_NAME = 'flower_data'\n",
    "DATASETS_PATH = os.path.join(PROJECT_ROOT_DIR, 'datasets')\n",
    "DATASET_PATH = os.path.join(DATASETS_PATH, DATASET_NAME)\n",
    "MODEL_PATH = os.path.join(PROJECT_ROOT_DIR, 'pretained')"
   ]
  },
  {
   "cell_type": "code",
   "execution_count": 2,
   "id": "a71da228",
   "metadata": {},
   "outputs": [
    {
     "data": {
      "text/plain": [
       "device(type='cuda', index=0)"
      ]
     },
     "execution_count": 2,
     "metadata": {},
     "output_type": "execute_result"
    }
   ],
   "source": [
    "device = torch.device('cuda:0' if torch.cuda.is_available() else 'cpu')\n",
    "device"
   ]
  },
  {
   "cell_type": "code",
   "execution_count": 3,
   "id": "9c649a66",
   "metadata": {},
   "outputs": [],
   "source": [
    "from shutil import copy, rmtree\n",
    "\n",
    "def mk_file(file_path: str):\n",
    "    if os.path.exists(file_path):\n",
    "        rmtree(file_path)\n",
    "    os.makedirs(file_path)"
   ]
  },
  {
   "cell_type": "code",
   "execution_count": 4,
   "id": "51abd8bc",
   "metadata": {},
   "outputs": [
    {
     "name": "stdout",
     "output_type": "stream",
     "text": [
      "数据集类别： ['daisy', 'dandelion', 'roses', 'sunflowers', 'tulips']\n"
     ]
    }
   ],
   "source": [
    "original_dataset = os.path.join(DATASET_PATH, \"flower_photos\")\n",
    "\n",
    "assert os.path.exists(original_dataset)\n",
    "flower_class = [cla for cla in os.listdir(original_dataset)\n",
    "                    if os.path.isdir(os.path.join(original_dataset, cla))]\n",
    "num_class = len(flower_class)\n",
    "print(\"数据集类别：\" , flower_class)"
   ]
  },
  {
   "cell_type": "code",
   "execution_count": 5,
   "id": "a0de30bb",
   "metadata": {},
   "outputs": [],
   "source": [
    "# 建立保存训练集的文件夹\n",
    "train_root = os.path.join(DATASET_PATH, \"train\")\n",
    "mk_file(train_root)\n",
    "for cla in flower_class:\n",
    "    # 建立每个类别对应的文件夹\n",
    "    mk_file(os.path.join(train_root, cla))\n",
    "        \n",
    "# 建立保存验证集的文件夹\n",
    "val_root = os.path.join(DATASET_PATH, \"val\")\n",
    "mk_file(val_root)\n",
    "for cla in flower_class:\n",
    "    # 建立每个类别对应的文件夹\n",
    "    mk_file(os.path.join(val_root, cla))"
   ]
  },
  {
   "cell_type": "code",
   "execution_count": 6,
   "id": "017a5379",
   "metadata": {},
   "outputs": [
    {
     "name": "stdout",
     "output_type": "stream",
     "text": [
      "[daisy] 训练验证样本分离 [633/633]\n",
      "[dandelion] 训练验证样本分离 [898/898]\n",
      "[roses] 训练验证样本分离 [641/641]\n",
      "[sunflowers] 训练验证样本分离 [699/699]\n",
      "[tulips] 训练验证样本分离 [799/799]\n"
     ]
    }
   ],
   "source": [
    "import random\n",
    "\n",
    "split_rate = 0.1\n",
    "\n",
    "for cla in flower_class:\n",
    "    cla_path = os.path.join(original_dataset, cla)\n",
    "    images = os.listdir(cla_path)\n",
    "    num = len(images)\n",
    "    # 随机采样验证集的索引\n",
    "    eval_index = random.sample(images, k=int(num*split_rate))\n",
    "    for index, image in enumerate(images):\n",
    "        if image in eval_index:\n",
    "            # 将分配至验证集中的文件复制到相应目录\n",
    "            image_path = os.path.join(cla_path, image)\n",
    "            new_path = os.path.join(val_root, cla)\n",
    "            copy(image_path, new_path)\n",
    "        else:\n",
    "            # 将分配至训练集中的文件复制到相应目录\n",
    "            image_path = os.path.join(cla_path, image)\n",
    "            new_path = os.path.join(train_root, cla)\n",
    "            copy(image_path, new_path)\n",
    "        print(\"\\r[{}] 训练验证样本分离 [{}/{}]\".format(cla, index+1, num), end=\"\") \n",
    "    print()\n"
   ]
  },
  {
   "cell_type": "code",
   "execution_count": 7,
   "id": "b43b073f",
   "metadata": {},
   "outputs": [],
   "source": [
    "data_transform = {\n",
    "    \"train\": transforms.Compose([transforms.RandomResizedCrop(224),\n",
    "                                 transforms.RandomHorizontalFlip(),\n",
    "                                 transforms.ToTensor(),\n",
    "                                 transforms.Normalize((0.5, 0.5, 0.5), (0.5, 0.5, 0.5))]),\n",
    "    \"val\": transforms.Compose([transforms.Resize((224, 224)),  \n",
    "                               transforms.ToTensor(),\n",
    "                               transforms.Normalize((0.5, 0.5, 0.5), (0.5, 0.5, 0.5))])}"
   ]
  },
  {
   "cell_type": "code",
   "execution_count": 8,
   "id": "d05299c2",
   "metadata": {},
   "outputs": [
    {
     "name": "stdout",
     "output_type": "stream",
     "text": [
      "训练样本数： 3306\n",
      "验证样本数： 364\n"
     ]
    }
   ],
   "source": [
    "batch_size = 32\n",
    "\n",
    "train_dataset = datasets.ImageFolder(root=train_root,\n",
    "                                     transform=data_transform[\"train\"])\n",
    "\n",
    "train_loader = torch.utils.data.DataLoader(train_dataset,\n",
    "                                           batch_size=batch_size, shuffle=True,\n",
    "                                           num_workers=0)\n",
    "\n",
    "validate_dataset = datasets.ImageFolder(root=val_root,\n",
    "                                   transform=data_transform[\"val\"])\n",
    "\n",
    "validate_loader = torch.utils.data.DataLoader(validate_dataset,\n",
    "                                              batch_size=4, shuffle=True,\n",
    "                                              num_workers=0)\n",
    "\n",
    "train_num = len(train_dataset)\n",
    "val_num = len(validate_dataset)\n",
    "print(\"训练样本数：\" , train_num)\n",
    "print(\"验证样本数：\" , val_num)"
   ]
  },
  {
   "cell_type": "code",
   "execution_count": 9,
   "id": "5e623979",
   "metadata": {},
   "outputs": [],
   "source": [
    "class AlexNet(nn.Module):\n",
    "    def __init__(self, num_classes=1000, init_weights=False):\n",
    "        super(AlexNet, self).__init__()\n",
    "        self.features = nn.Sequential(\n",
    "            nn.Conv2d(3, 64, kernel_size=11, stride=4, padding=2),\n",
    "            nn.ReLU(inplace=True),\n",
    "            nn.MaxPool2d(kernel_size=3, stride=2),\n",
    "            nn.Conv2d(64, 192, kernel_size=5, padding=2),\n",
    "            nn.ReLU(inplace=True),\n",
    "            nn.MaxPool2d(kernel_size=3, stride=2),\n",
    "            nn.Conv2d(192, 384, kernel_size=3, padding=1),\n",
    "            nn.ReLU(inplace=True),\n",
    "            nn.Conv2d(384, 256, kernel_size=3, padding=1),\n",
    "            nn.ReLU(inplace=True),\n",
    "            nn.Conv2d(256, 256, kernel_size=3, padding=1),\n",
    "            nn.ReLU(inplace=True),\n",
    "            nn.MaxPool2d(kernel_size=3, stride=2),\n",
    "        )\n",
    "        self.avgpool = nn.AdaptiveAvgPool2d((6, 6))\n",
    "        self.classifier = nn.Sequential(\n",
    "            nn.Dropout(),\n",
    "            nn.Linear(256 * 6 * 6, 4096),\n",
    "            nn.ReLU(inplace=True),\n",
    "            nn.Dropout(),\n",
    "            nn.Linear(4096, 4096),\n",
    "            nn.ReLU(inplace=True),\n",
    "            nn.Linear(4096, num_classes),\n",
    "        )\n",
    "        if init_weights:\n",
    "            self._initialize_weights()\n",
    "\n",
    "    def forward(self, x):\n",
    "        x = self.features(x)\n",
    "        x = torch.flatten(x, start_dim=1)\n",
    "        x = self.classifier(x)\n",
    "        return x\n",
    "\n",
    "    def _initialize_weights(self):\n",
    "        for m in self.modules():\n",
    "            if isinstance(m, nn.Conv2d):\n",
    "                nn.init.kaiming_normal_(m.weight, mode='fan_out', nonlinearity='relu')\n",
    "                if m.bias is not None:\n",
    "                    nn.init.constant_(m.bias, 0)\n",
    "            elif isinstance(m, nn.Linear):\n",
    "                nn.init.normal_(m.weight, 0, 0.01)\n",
    "                nn.init.constant_(m.bias, 0)"
   ]
  },
  {
   "cell_type": "code",
   "execution_count": 10,
   "id": "d1d7e766",
   "metadata": {},
   "outputs": [],
   "source": [
    "net = AlexNet()\n",
    "\n",
    "net.to(device)\n",
    "\n",
    "model_weights_path = os.path.join(MODEL_PATH, 'alexnet-owt-4df8aa71.pth')\n",
    "missing_keys, unexpected_keys = net.load_state_dict(torch.load(model_weights_path), strict=False)\n"
   ]
  },
  {
   "cell_type": "code",
   "execution_count": 11,
   "id": "e835f8e6",
   "metadata": {
    "scrolled": false
   },
   "outputs": [
    {
     "name": "stderr",
     "output_type": "stream",
     "text": [
      "C:\\Users\\sbzy\\Anaconda3\\lib\\site-packages\\torch\\nn\\functional.py:718: UserWarning: Named tensors and all their associated APIs are an experimental feature and subject to change. Please do not use them for anything important until they are released as stable. (Triggered internally at  ..\\c10/core/TensorImpl.h:1156.)\n",
      "  return torch.max_pool2d(input, kernel_size, stride, padding, dilation, ceil_mode)\n"
     ]
    },
    {
     "name": "stdout",
     "output_type": "stream",
     "text": [
      "train loss: 100%[**************************************************->]0.561\n",
      "22.260418699999995\n",
      "[epoch 1] train_loss: 1.076  test_accuracy: 0.791\n",
      "train loss: 100%[**************************************************->]0.307\n",
      "18.055617599999998\n",
      "[epoch 2] train_loss: 0.598  test_accuracy: 0.824\n",
      "train loss: 100%[**************************************************->]0.717\n",
      "18.279919000000007\n",
      "[epoch 3] train_loss: 0.509  test_accuracy: 0.827\n",
      "train loss: 100%[**************************************************->]0.351\n",
      "18.823308899999986\n",
      "[epoch 4] train_loss: 0.446  test_accuracy: 0.838\n",
      "train loss: 100%[**************************************************->]0.604\n",
      "18.1901381\n",
      "[epoch 5] train_loss: 0.407  test_accuracy: 0.849\n",
      "train loss: 100%[**************************************************->]0.585\n",
      "18.180712999999983\n",
      "[epoch 6] train_loss: 0.409  test_accuracy: 0.876\n",
      "train loss: 100%[**************************************************->]0.217\n",
      "18.546216600000008\n",
      "[epoch 7] train_loss: 0.359  test_accuracy: 0.860\n",
      "train loss: 100%[**************************************************->]0.665\n",
      "18.723707399999995\n",
      "[epoch 8] train_loss: 0.317  test_accuracy: 0.874\n",
      "train loss: 100%[**************************************************->]0.127\n",
      "19.599420900000013\n",
      "[epoch 9] train_loss: 0.361  test_accuracy: 0.879\n",
      "train loss: 100%[**************************************************->]0.378\n",
      "19.027084299999984\n",
      "[epoch 10] train_loss: 0.322  test_accuracy: 0.854\n",
      "train loss: 100%[**************************************************->]0.263\n",
      "18.064313499999997\n",
      "[epoch 11] train_loss: 0.298  test_accuracy: 0.871\n",
      "train loss: 100%[**************************************************->]0.115\n",
      "17.71612589999998\n",
      "[epoch 12] train_loss: 0.297  test_accuracy: 0.885\n",
      "train loss: 100%[**************************************************->]0.081\n",
      "18.1506488\n",
      "[epoch 13] train_loss: 0.302  test_accuracy: 0.890\n",
      "train loss: 100%[**************************************************->]0.693\n",
      "18.126832200000024\n",
      "[epoch 14] train_loss: 0.284  test_accuracy: 0.857\n",
      "train loss: 100%[**************************************************->]0.001\n",
      "18.59282619999999\n",
      "[epoch 15] train_loss: 0.271  test_accuracy: 0.890\n",
      "train loss: 100%[**************************************************->]0.112\n",
      "17.71024799999998\n",
      "[epoch 16] train_loss: 0.262  test_accuracy: 0.890\n",
      "train loss: 100%[**************************************************->]0.057\n",
      "17.794712400000037\n",
      "[epoch 17] train_loss: 0.252  test_accuracy: 0.893\n",
      "train loss: 100%[**************************************************->]0.623\n",
      "17.78377009999997\n",
      "[epoch 18] train_loss: 0.269  test_accuracy: 0.893\n",
      "train loss: 100%[**************************************************->]0.149\n",
      "17.800936699999966\n",
      "[epoch 19] train_loss: 0.250  test_accuracy: 0.898\n",
      "train loss: 100%[**************************************************->]0.478\n",
      "18.289049799999987\n",
      "[epoch 20] train_loss: 0.220  test_accuracy: 0.901\n",
      "train loss: 100%[**************************************************->]0.000\n",
      "18.513197900000023\n",
      "[epoch 21] train_loss: 0.237  test_accuracy: 0.893\n",
      "train loss: 100%[**************************************************->]0.134\n",
      "18.729074200000014\n",
      "[epoch 22] train_loss: 0.211  test_accuracy: 0.874\n",
      "train loss: 100%[**************************************************->]0.461\n",
      "19.177944999999966\n",
      "[epoch 23] train_loss: 0.238  test_accuracy: 0.887\n",
      "train loss: 100%[**************************************************->]0.221\n",
      "19.546606399999973\n",
      "[epoch 24] train_loss: 0.221  test_accuracy: 0.896\n",
      "train loss: 100%[**************************************************->]0.015\n",
      "18.661363300000005\n",
      "[epoch 25] train_loss: 0.217  test_accuracy: 0.846\n",
      "train loss: 100%[**************************************************->]0.518\n",
      "19.324238600000058\n",
      "[epoch 26] train_loss: 0.242  test_accuracy: 0.909\n",
      "train loss: 100%[**************************************************->]0.027\n",
      "18.551516600000014\n",
      "[epoch 27] train_loss: 0.213  test_accuracy: 0.898\n",
      "train loss: 100%[**************************************************->]0.061\n",
      "19.548429499999997\n",
      "[epoch 28] train_loss: 0.221  test_accuracy: 0.882\n",
      "train loss: 100%[**************************************************->]0.016\n",
      "17.88767489999998\n",
      "[epoch 29] train_loss: 0.172  test_accuracy: 0.876\n",
      "train loss: 100%[**************************************************->]0.153\n",
      "17.966190299999994\n",
      "[epoch 30] train_loss: 0.207  test_accuracy: 0.885\n",
      "Finished Training\n"
     ]
    }
   ],
   "source": [
    "loss_function = nn.CrossEntropyLoss()\n",
    "optimizer = optim.Adam(net.parameters(), lr=0.0002)\n",
    "\n",
    "\n",
    "save_path = './generated/AlexNet.pth'\n",
    "best_acc = 0.0\n",
    "loss_val = []\n",
    "acc_scores = []\n",
    "for epoch in range(30):\n",
    "    \n",
    "    net.train()\n",
    "    running_loss = 0.0\n",
    "    t1 = time.perf_counter()\n",
    "    for step, data in enumerate(train_loader, start=0):\n",
    "        images, labels = data\n",
    "        images = images.to(device)\n",
    "        labels = labels.to(device)\n",
    "        optimizer.zero_grad()\n",
    "        outputs = net(images)\n",
    "        loss = loss_function(outputs, labels)\n",
    "        loss.backward()\n",
    "        optimizer.step()\n",
    "\n",
    "        # print statistics\n",
    "        running_loss += loss.item()\n",
    "        # print train process\n",
    "        rate = (step + 1) / len(train_loader)\n",
    "        a = \"*\" * int(rate * 50)\n",
    "        b = \".\" * int((1 - rate) * 50)\n",
    "        print(\"\\rtrain loss: {:^3.0f}%[{}->{}]{:.3f}\".format(int(rate * 100), a, b, loss), end=\"\")\n",
    "    print()\n",
    "    print(time.perf_counter() - t1)\n",
    "\n",
    "    # validate\n",
    "    net.eval()\n",
    "    acc = 0.0  # accumulate accurate number / epoch\n",
    "    with torch.no_grad():\n",
    "        for val_data in validate_loader:\n",
    "            val_images, val_labels = val_data\n",
    "            outputs = net(val_images.to(device))\n",
    "            predict_y = torch.max(outputs, dim=1)[1]\n",
    "            acc += (predict_y == val_labels.to(device)).sum().item()\n",
    "        val_accurate = acc / val_num\n",
    "        if val_accurate > best_acc:\n",
    "            best_acc = val_accurate\n",
    "            torch.save(net.state_dict(), save_path)\n",
    "        print('[epoch %d] train_loss: %.3f  test_accuracy: %.3f' %\n",
    "            (epoch + 1, running_loss / step, val_accurate))\n",
    "        \n",
    "        loss_val.append(running_loss / step)    \n",
    "        acc_scores.append(val_accurate)\n",
    "\n",
    "print('Finished Training')"
   ]
  },
  {
   "cell_type": "code",
   "execution_count": 12,
   "id": "e7d9a0d8",
   "metadata": {},
   "outputs": [
    {
     "data": {
      "image/png": "[encoded data removed]",
      "text/plain": [
       "<Figure size 432x288 with 1 Axes>"
      ]
     },
     "metadata": {
      "needs_background": "light"
     },
     "output_type": "display_data"
    }
   ],
   "source": [
    "epoches = [x for x in range(30)]\n",
    "plt.plot(epoches, loss_val, epoches, acc_scores)\n",
    "plt.xlabel('Epoches')\n",
    "plt.ylabel('Sparse CrossEntropy Loss | Accuracy')\n",
    "plt.show()"
   ]
  },
  {
   "cell_type": "code",
   "execution_count": 13,
   "id": "4a9fd72b",
   "metadata": {},
   "outputs": [],
   "source": [
    "def confusion_matrix(preds, labels, conf_matrix):\n",
    "    for p, t in zip(preds, labels):\n",
    "        conf_matrix[p, t] += 1\n",
    "    return conf_matrix"
   ]
  },
  {
   "cell_type": "code",
   "execution_count": 22,
   "id": "c3ce2c54",
   "metadata": {},
   "outputs": [],
   "source": [
    "def plot_confusion_matrix(cm, classes, normalize=False, title='Confusion matrix', cmap=plt.cm.Blues):\n",
    "    \n",
    "    if normalize:\n",
    "        cm = cm.astype('float') / cm.sum(axis=1)[:, np.newaxis]\n",
    "        print(\"Normalized confusion matrix\")\n",
    "    else:\n",
    "        print('Confusion matrix, without normalization')\n",
    "    print(cm)\n",
    "    plt.imshow(cm, interpolation='nearest', cmap=cmap)\n",
    "    plt.title(title)\n",
    "    plt.colorbar()\n",
    "    tick_marks = np.arange(len(classes))\n",
    "    plt.xticks(tick_marks, classes, rotation=90)\n",
    "    plt.yticks(tick_marks, classes)\n",
    "    \n",
    "\n",
    "    plt.axis(\"equal\")\n",
    "    ax = plt.gca() \n",
    "    left, right = plt.xlim()  \n",
    "    ax.spines['left'].set_position(('data', left))\n",
    "    ax.spines['right'].set_position(('data', right))\n",
    "    for edge_i in ['top', 'bottom', 'right', 'left']:\n",
    "        ax.spines[edge_i].set_edgecolor(\"white\")\n",
    "\n",
    "    thresh = cm.max() / 2.\n",
    "    for i, j in itertools.product(range(cm.shape[0]), range(cm.shape[1])):\n",
    "        num = '{:.2f}'.format(cm[i, j]) if normalize else int(cm[i, j])\n",
    "        plt.text(j, i, num,\n",
    "                 verticalalignment='center',\n",
    "                 horizontalalignment=\"center\",\n",
    "                 color=\"white\" if num > thresh else \"black\")\n",
    "    plt.ylabel('True label')\n",
    "    plt.xlabel('Predicted label')\n",
    "    plt.show()\n"
   ]
  },
  {
   "cell_type": "code",
   "execution_count": 23,
   "id": "a52fd1c9",
   "metadata": {
    "scrolled": false
   },
   "outputs": [
    {
     "name": "stdout",
     "output_type": "stream",
     "text": [
      "Confusion matrix, without normalization\n",
      "[[52.  1.  1.  0.  0.]\n",
      " [ 7. 83.  1.  0.  1.]\n",
      " [ 1.  1. 49.  1.  7.]\n",
      " [ 0.  1.  1. 68.  1.]\n",
      " [ 3.  3. 12.  0. 70.]]\n"
     ]
    },
    {
     "data": {
      "image/png": "[encoded data removed]",
      "text/plain": [
       "<Figure size 432x288 with 2 Axes>"
      ]
     },
     "metadata": {
      "needs_background": "light"
     },
     "output_type": "display_data"
    }
   ],
   "source": [
    "import itertools\n",
    "import numpy as np\n",
    "\n",
    "conf_matrix = torch.zeros(num_class, num_class)\n",
    "\n",
    "with torch.no_grad():\n",
    "    for val_data in validate_loader:\n",
    "        val_images, val_labels = val_data\n",
    "        outputs = net(val_images.to(device))\n",
    "        predict_y = torch.max(outputs, dim=1)[1]\n",
    "        conf_matrix = confusion_matrix(predict_y, labels=val_labels, conf_matrix=conf_matrix)\n",
    "\n",
    "plot_confusion_matrix(conf_matrix.numpy(), classes=flower_class, normalize=False,\n",
    "                                 title='Normalized confusion matrix')\n"
   ]
  },
  {
   "cell_type": "code",
   "execution_count": null,
   "id": "86d586d0",
   "metadata": {},
   "outputs": [],
   "source": []
  }
 ],
 "metadata": {
  "kernelspec": {
   "display_name": "Python 3",
   "language": "python",
   "name": "python3"
  },
  "language_info": {
   "codemirror_mode": {
    "name": "ipython",
    "version": 3
   },
   "file_extension": ".py",
   "mimetype": "text/x-python",
   "name": "python",
   "nbconvert_exporter": "python",
   "pygments_lexer": "ipython3",
   "version": "3.8.8"
  }
 },
 "nbformat": 4,
 "nbformat_minor": 5
}
