{
 "cells": [
  {
   "cell_type": "code",
   "execution_count": 1,
   "id": "2e2fe71a",
   "metadata": {},
   "outputs": [],
   "source": [
    "import os\n",
    "os.environ[\"KMP_DUPLICATE_LIB_OK\"]=\"TRUE\"\n",
    "\n",
    "import torch\n",
    "import torch.nn as nn\n",
    "import torch.optim as optim\n",
    "import torch.nn.functional as F\n",
    "\n",
    "from torchvision import transforms, datasets, models\n",
    "from collections import OrderedDict\n",
    "\n",
    "import time\n",
    "import math\n",
    "\n",
    "%matplotlib inline\n",
    "import matplotlib as mpl\n",
    "import matplotlib.pyplot as plt\n",
    "mpl.rc('axes', labelsize = 14)\n",
    "mpl.rc('xtick', labelsize = 12)\n",
    "mpl.rc('ytick', labelsize = 12)\n",
    "\n",
    "\n",
    "PROJECT_ROOT_DIR = '.'\n",
    "DATASET_NAME = 'flower_data'\n",
    "DATASETS_PATH = os.path.join(PROJECT_ROOT_DIR, 'datasets')\n",
    "DATASET_PATH = os.path.join(DATASETS_PATH, DATASET_NAME)\n",
    "MODEL_PATH = os.path.join(PROJECT_ROOT_DIR, 'pretained')"
   ]
  },
  {
   "cell_type": "code",
   "execution_count": 2,
   "id": "cc5c1cf6",
   "metadata": {},
   "outputs": [
    {
     "data": {
      "text/plain": [
       "device(type='cuda', index=0)"
      ]
     },
     "execution_count": 2,
     "metadata": {},
     "output_type": "execute_result"
    }
   ],
   "source": [
    "device = torch.device('cuda:0' if torch.cuda.is_available() else 'cpu')\n",
    "device"
   ]
  },
  {
   "cell_type": "code",
   "execution_count": 3,
   "id": "acf80224",
   "metadata": {},
   "outputs": [],
   "source": [
    "from shutil import copy, rmtree\n",
    "\n",
    "def mk_file(file_path: str):\n",
    "    if os.path.exists(file_path):\n",
    "        rmtree(file_path)\n",
    "    os.makedirs(file_path)"
   ]
  },
  {
   "cell_type": "code",
   "execution_count": 4,
   "id": "5e47ec51",
   "metadata": {},
   "outputs": [
    {
     "name": "stdout",
     "output_type": "stream",
     "text": [
      "数据集类别： ['daisy', 'dandelion', 'roses', 'sunflowers', 'tulips']\n"
     ]
    }
   ],
   "source": [
    "original_dataset = os.path.join(DATASET_PATH, \"flower_photos\")\n",
    "\n",
    "assert os.path.exists(original_dataset)\n",
    "flower_class = [cla for cla in os.listdir(original_dataset)\n",
    "                    if os.path.isdir(os.path.join(original_dataset, cla))]\n",
    "num_class = len(flower_class)\n",
    "print(\"数据集类别：\" , flower_class)"
   ]
  },
  {
   "cell_type": "code",
   "execution_count": 5,
   "id": "4fa2a6e4",
   "metadata": {},
   "outputs": [],
   "source": [
    "# 建立保存训练集的文件夹\n",
    "train_root = os.path.join(DATASET_PATH, \"train\")\n",
    "mk_file(train_root)\n",
    "for cla in flower_class:\n",
    "    # 建立每个类别对应的文件夹\n",
    "    mk_file(os.path.join(train_root, cla))\n",
    "        \n",
    "# 建立保存验证集的文件夹\n",
    "val_root = os.path.join(DATASET_PATH, \"val\")\n",
    "mk_file(val_root)\n",
    "for cla in flower_class:\n",
    "    # 建立每个类别对应的文件夹\n",
    "    mk_file(os.path.join(val_root, cla))"
   ]
  },
  {
   "cell_type": "code",
   "execution_count": 6,
   "id": "321ecae3",
   "metadata": {},
   "outputs": [
    {
     "name": "stdout",
     "output_type": "stream",
     "text": [
      "[daisy] 训练验证样本分离 [633/633]\n",
      "[dandelion] 训练验证样本分离 [898/898]\n",
      "[roses] 训练验证样本分离 [641/641]\n",
      "[sunflowers] 训练验证样本分离 [699/699]\n",
      "[tulips] 训练验证样本分离 [799/799]\n"
     ]
    }
   ],
   "source": [
    "import random\n",
    "\n",
    "split_rate = 0.1\n",
    "\n",
    "for cla in flower_class:\n",
    "    cla_path = os.path.join(original_dataset, cla)\n",
    "    images = os.listdir(cla_path)\n",
    "    num = len(images)\n",
    "    # 随机采样验证集的索引\n",
    "    eval_index = random.sample(images, k=int(num*split_rate))\n",
    "    for index, image in enumerate(images):\n",
    "        if image in eval_index:\n",
    "            # 将分配至验证集中的文件复制到相应目录\n",
    "            image_path = os.path.join(cla_path, image)\n",
    "            new_path = os.path.join(val_root, cla)\n",
    "            copy(image_path, new_path)\n",
    "        else:\n",
    "            # 将分配至训练集中的文件复制到相应目录\n",
    "            image_path = os.path.join(cla_path, image)\n",
    "            new_path = os.path.join(train_root, cla)\n",
    "            copy(image_path, new_path)\n",
    "        print(\"\\r[{}] 训练验证样本分离 [{}/{}]\".format(cla, index+1, num), end=\"\") \n",
    "    print()"
   ]
  },
  {
   "cell_type": "code",
   "execution_count": 7,
   "id": "baf69320",
   "metadata": {},
   "outputs": [],
   "source": [
    "data_transform = {\n",
    "    \"train\": transforms.Compose([transforms.RandomResizedCrop(224),\n",
    "                                 transforms.RandomHorizontalFlip(),\n",
    "                                 transforms.ToTensor(),\n",
    "                                 transforms.Normalize((0.5, 0.5, 0.5), (0.5, 0.5, 0.5))]),\n",
    "    \"val\": transforms.Compose([transforms.Resize((224, 224)),  \n",
    "                               transforms.ToTensor(),\n",
    "                               transforms.Normalize((0.5, 0.5, 0.5), (0.5, 0.5, 0.5))])}"
   ]
  },
  {
   "cell_type": "code",
   "execution_count": 8,
   "id": "28508918",
   "metadata": {},
   "outputs": [
    {
     "name": "stdout",
     "output_type": "stream",
     "text": [
      "训练样本数： 3306\n",
      "验证样本数： 364\n"
     ]
    }
   ],
   "source": [
    "batch_size = 64\n",
    "\n",
    "train_dataset = datasets.ImageFolder(root=train_root,\n",
    "                                     transform=data_transform[\"train\"])\n",
    "\n",
    "train_loader = torch.utils.data.DataLoader(train_dataset,\n",
    "                                           batch_size=batch_size, shuffle=True,\n",
    "                                           num_workers=0)\n",
    "\n",
    "validate_dataset = datasets.ImageFolder(root=val_root,\n",
    "                                    transform=data_transform[\"val\"])\n",
    "\n",
    "validate_loader = torch.utils.data.DataLoader(validate_dataset,\n",
    "                                              4, shuffle=True,\n",
    "                                              num_workers=0)\n",
    "\n",
    "train_num = len(train_dataset)\n",
    "val_num = len(validate_dataset)\n",
    "print(\"训练样本数：\" , train_num)\n",
    "print(\"验证样本数：\" , val_num)"
   ]
  },
  {
   "cell_type": "code",
   "execution_count": 9,
   "id": "8987f2d1",
   "metadata": {},
   "outputs": [],
   "source": [
    "class Fire(nn.Module):\n",
    "\n",
    "    def __init__(self,inplanes,outplane,ep1,ep3):\n",
    "        super(Fire, self).__init__()\n",
    "        self.squeeze  = nn.Conv2d(inplanes, outplane, kernel_size=1)\n",
    "        self.squeeze_relu  = nn.ReLU(inplace=True)\n",
    "        self.expand1x1 = nn.Conv2d(outplane,ep1,kernel_size=1)\n",
    "        self.expand1x1_relu = nn.ReLU(inplace=True)\n",
    "        self.expand3x3 = nn.Conv2d(outplane,ep3,kernel_size=3, padding=1)\n",
    "        self.expand3x3_relu = nn.ReLU(inplace=True)\n",
    "\n",
    "    def forward(self, x):\n",
    "        x = self.squeeze_relu(self.squeeze(x))\n",
    "        output = [self.expand3x3_relu(self.expand1x1(x)),\n",
    "                  self.expand3x3_relu(self.expand3x3(x))]\n",
    "        return torch.cat(output, 1)"
   ]
  },
  {
   "cell_type": "code",
   "execution_count": 10,
   "id": "c0fe281c",
   "metadata": {},
   "outputs": [],
   "source": [
    "class SqueezeNet(nn.Module):\n",
    "\n",
    "    def __init__(self,num_classes=1000):\n",
    "        super(SqueezeNet, self).__init__()\n",
    "        \n",
    "        self.features = nn.Sequential(\n",
    "            nn.Conv2d(3, 64, kernel_size=3, stride=2),\n",
    "            nn.ReLU(inplace=True),\n",
    "            nn.MaxPool2d(kernel_size=3, stride=2, ceil_mode=True),\n",
    "            Fire(64, 16, 64, 64),\n",
    "            Fire(128, 16, 64, 64),\n",
    "            nn.MaxPool2d(kernel_size=3, stride=2, ceil_mode=True),\n",
    "            Fire(128, 32, 128, 128),\n",
    "            Fire(256, 32, 128, 128),\n",
    "            nn.MaxPool2d(kernel_size=3, stride=2, ceil_mode=True),\n",
    "            Fire(256, 48, 192, 192),\n",
    "            Fire(384, 48, 192, 192),\n",
    "            Fire(384, 64, 256, 256),\n",
    "            Fire(512, 64, 256, 256),\n",
    "            )\n",
    "       \n",
    "        self.classifier = nn.Sequential(\n",
    "            nn.Dropout(p=0.5),\n",
    "            nn.Conv2d(512, num_classes, kernel_size=1),\n",
    "            nn.ReLU(inplace=True),\n",
    "            nn.AdaptiveAvgPool2d((1, 1))\n",
    "        )\n",
    "\n",
    "    def forward(self, x):\n",
    "        x = self.features(x)\n",
    "        x = self.classifier(x)\n",
    "        return torch.flatten(x, 1)"
   ]
  },
  {
   "cell_type": "code",
   "execution_count": 11,
   "id": "1334efd9",
   "metadata": {},
   "outputs": [],
   "source": [
    "net = SqueezeNet()\n",
    "#net = models.squeezenet1_1(pretrained=False)\n",
    "\n",
    "model_weights_path = os.path.join(MODEL_PATH, 'squeezenet1_1-b8a52dc0.pth')\n",
    "missing_keys, unexpected_keys = net.load_state_dict(torch.load(model_weights_path), strict=False)"
   ]
  },
  {
   "cell_type": "code",
   "execution_count": 12,
   "id": "b79b44f4",
   "metadata": {},
   "outputs": [],
   "source": [
    "for parma in net.parameters():\n",
    "    parma.requires_grad = False    \n",
    "\n",
    "net.classifier = nn.Sequential(\n",
    "            nn.Dropout(p=0.5),\n",
    "            nn.Conv2d(512, 5, kernel_size=1),\n",
    "            nn.ReLU(inplace=True),\n",
    "            nn.AdaptiveAvgPool2d((1, 1))\n",
    "        )\n",
    "\n",
    "net.to(device)\n",
    "\n",
    "if device == 'cuda':\n",
    "    net = nn.DataParallel(net)\n",
    "    torch.backends.cudnn.benchmark = True"
   ]
  },
  {
   "cell_type": "code",
   "execution_count": 13,
   "id": "ff8477d6",
   "metadata": {},
   "outputs": [
    {
     "name": "stdout",
     "output_type": "stream",
     "text": [
      "----------------------------------------------------------------\n",
      "        Layer (type)               Output Shape         Param #\n",
      "================================================================\n",
      "            Conv2d-1         [-1, 64, 111, 111]           1,792\n",
      "              ReLU-2         [-1, 64, 111, 111]               0\n",
      "         MaxPool2d-3           [-1, 64, 55, 55]               0\n",
      "            Conv2d-4           [-1, 16, 55, 55]           1,040\n",
      "              ReLU-5           [-1, 16, 55, 55]               0\n",
      "            Conv2d-6           [-1, 64, 55, 55]           1,088\n",
      "              ReLU-7           [-1, 64, 55, 55]               0\n",
      "            Conv2d-8           [-1, 64, 55, 55]           9,280\n",
      "              ReLU-9           [-1, 64, 55, 55]               0\n",
      "             Fire-10          [-1, 128, 55, 55]               0\n",
      "           Conv2d-11           [-1, 16, 55, 55]           2,064\n",
      "             ReLU-12           [-1, 16, 55, 55]               0\n",
      "           Conv2d-13           [-1, 64, 55, 55]           1,088\n",
      "             ReLU-14           [-1, 64, 55, 55]               0\n",
      "           Conv2d-15           [-1, 64, 55, 55]           9,280\n",
      "             ReLU-16           [-1, 64, 55, 55]               0\n",
      "             Fire-17          [-1, 128, 55, 55]               0\n",
      "        MaxPool2d-18          [-1, 128, 27, 27]               0\n",
      "           Conv2d-19           [-1, 32, 27, 27]           4,128\n",
      "             ReLU-20           [-1, 32, 27, 27]               0\n",
      "           Conv2d-21          [-1, 128, 27, 27]           4,224\n",
      "             ReLU-22          [-1, 128, 27, 27]               0\n",
      "           Conv2d-23          [-1, 128, 27, 27]          36,992\n",
      "             ReLU-24          [-1, 128, 27, 27]               0\n",
      "             Fire-25          [-1, 256, 27, 27]               0\n",
      "           Conv2d-26           [-1, 32, 27, 27]           8,224\n",
      "             ReLU-27           [-1, 32, 27, 27]               0\n",
      "           Conv2d-28          [-1, 128, 27, 27]           4,224\n",
      "             ReLU-29          [-1, 128, 27, 27]               0\n",
      "           Conv2d-30          [-1, 128, 27, 27]          36,992\n",
      "             ReLU-31          [-1, 128, 27, 27]               0\n",
      "             Fire-32          [-1, 256, 27, 27]               0\n",
      "        MaxPool2d-33          [-1, 256, 13, 13]               0\n",
      "           Conv2d-34           [-1, 48, 13, 13]          12,336\n",
      "             ReLU-35           [-1, 48, 13, 13]               0\n",
      "           Conv2d-36          [-1, 192, 13, 13]           9,408\n",
      "             ReLU-37          [-1, 192, 13, 13]               0\n",
      "           Conv2d-38          [-1, 192, 13, 13]          83,136\n",
      "             ReLU-39          [-1, 192, 13, 13]               0\n",
      "             Fire-40          [-1, 384, 13, 13]               0\n",
      "           Conv2d-41           [-1, 48, 13, 13]          18,480\n",
      "             ReLU-42           [-1, 48, 13, 13]               0\n",
      "           Conv2d-43          [-1, 192, 13, 13]           9,408\n",
      "             ReLU-44          [-1, 192, 13, 13]               0\n",
      "           Conv2d-45          [-1, 192, 13, 13]          83,136\n",
      "             ReLU-46          [-1, 192, 13, 13]               0\n",
      "             Fire-47          [-1, 384, 13, 13]               0\n",
      "           Conv2d-48           [-1, 64, 13, 13]          24,640\n",
      "             ReLU-49           [-1, 64, 13, 13]               0\n",
      "           Conv2d-50          [-1, 256, 13, 13]          16,640\n",
      "             ReLU-51          [-1, 256, 13, 13]               0\n",
      "           Conv2d-52          [-1, 256, 13, 13]         147,712\n",
      "             ReLU-53          [-1, 256, 13, 13]               0\n",
      "             Fire-54          [-1, 512, 13, 13]               0\n",
      "           Conv2d-55           [-1, 64, 13, 13]          32,832\n",
      "             ReLU-56           [-1, 64, 13, 13]               0\n",
      "           Conv2d-57          [-1, 256, 13, 13]          16,640\n",
      "             ReLU-58          [-1, 256, 13, 13]               0\n",
      "           Conv2d-59          [-1, 256, 13, 13]         147,712\n",
      "             ReLU-60          [-1, 256, 13, 13]               0\n",
      "             Fire-61          [-1, 512, 13, 13]               0\n",
      "          Dropout-62          [-1, 512, 13, 13]               0\n",
      "           Conv2d-63            [-1, 5, 13, 13]           2,565\n",
      "             ReLU-64            [-1, 5, 13, 13]               0\n",
      "AdaptiveAvgPool2d-65              [-1, 5, 1, 1]               0\n",
      "================================================================\n",
      "Total params: 725,061\n",
      "Trainable params: 2,565\n",
      "Non-trainable params: 722,496\n",
      "----------------------------------------------------------------\n",
      "Input size (MB): 0.57\n",
      "Forward/backward pass size (MB): 51.19\n",
      "Params size (MB): 2.77\n",
      "Estimated Total Size (MB): 54.53\n",
      "----------------------------------------------------------------\n"
     ]
    },
    {
     "name": "stderr",
     "output_type": "stream",
     "text": [
      "C:\\ProgramData\\Anaconda3\\lib\\site-packages\\torch\\nn\\functional.py:718: UserWarning: Named tensors and all their associated APIs are an experimental feature and subject to change. Please do not use them for anything important until they are released as stable. (Triggered internally at  ..\\c10/core/TensorImpl.h:1156.)\n",
      "  return torch.max_pool2d(input, kernel_size, stride, padding, dilation, ceil_mode)\n"
     ]
    }
   ],
   "source": [
    "from torchsummary import summary\n",
    "\n",
    "summary(net, (3, 224, 224))"
   ]
  },
  {
   "cell_type": "code",
   "execution_count": 14,
   "id": "92c406db",
   "metadata": {},
   "outputs": [],
   "source": [
    "def confusion_matrix(preds, labels, conf_matrix):\n",
    "    for p, t in zip(preds, labels):\n",
    "        conf_matrix[p, t] += 1\n",
    "    return conf_matrix\n",
    "\n",
    "def plot_confusion_matrix(cm, classes, normalize=False, title='Confusion matrix', cmap=plt.cm.Blues):\n",
    "    \n",
    "    if normalize:\n",
    "        cm = cm.astype('float') / cm.sum(axis=1)[:, np.newaxis]\n",
    "        print(\"Normalized confusion matrix\")\n",
    "    else:\n",
    "        print('Confusion matrix, without normalization')\n",
    "    print(cm)\n",
    "    plt.imshow(cm, interpolation='nearest', cmap=cmap)\n",
    "    plt.title(title)\n",
    "    plt.colorbar()\n",
    "    tick_marks = np.arange(len(classes))\n",
    "    plt.xticks(tick_marks, classes, rotation=90)\n",
    "    plt.yticks(tick_marks, classes)\n",
    "    \n",
    "\n",
    "    plt.axis(\"equal\")\n",
    "    ax = plt.gca() \n",
    "    left, right = plt.xlim()  \n",
    "    ax.spines['left'].set_position(('data', left))\n",
    "    ax.spines['right'].set_position(('data', right))\n",
    "    for edge_i in ['top', 'bottom', 'right', 'left']:\n",
    "        ax.spines[edge_i].set_edgecolor(\"white\")\n",
    "\n",
    "    thresh = cm.max() / 2.\n",
    "    for i, j in itertools.product(range(cm.shape[0]), range(cm.shape[1])):\n",
    "        num = '{:.2f}'.format(cm[i, j]) if normalize else int(cm[i, j])\n",
    "        plt.text(j, i, num,\n",
    "                 verticalalignment='center',\n",
    "                 horizontalalignment=\"center\",\n",
    "                 color=\"white\" if num > thresh else \"black\")\n",
    "    plt.ylabel('True label')\n",
    "    plt.xlabel('Predicted label')\n",
    "    plt.show()\n",
    "    "
   ]
  },
  {
   "cell_type": "code",
   "execution_count": 15,
   "id": "4a6464cb",
   "metadata": {},
   "outputs": [],
   "source": [
    "epoches = 30\n",
    "lr = 0.0002\n",
    "\n",
    "criterion = nn.CrossEntropyLoss()\n",
    "optimizer=optim.Adam(net.parameters(),lr=lr)"
   ]
  },
  {
   "cell_type": "code",
   "execution_count": 16,
   "id": "cf037fea",
   "metadata": {},
   "outputs": [],
   "source": [
    "save_path = './generated/SqueezeNet.pth'\n",
    "best_acc = 0.0\n",
    "train_losses = []\n",
    "train_accs = []\n",
    "test_losses = []\n",
    "test_accs =[]"
   ]
  },
  {
   "cell_type": "code",
   "execution_count": 17,
   "id": "5c4fd777",
   "metadata": {},
   "outputs": [],
   "source": [
    "def train(epoch):\n",
    "    net.train()\n",
    "    train_loss = 0\n",
    "    correct = 0\n",
    "    total = 0\n",
    "    t1 = time.perf_counter()\n",
    "    for step, (inputs, targets) in enumerate(train_loader):\n",
    "        inputs, targets = inputs.to(device), targets.to(device)\n",
    "        optimizer.zero_grad()\n",
    "        outputs = net(inputs)\n",
    "        loss = criterion(outputs, targets)\n",
    "        loss.backward()\n",
    "        optimizer.step()\n",
    "\n",
    "        train_loss += loss.item()\n",
    "        _, predicted = outputs.max(1)\n",
    "        total += targets.size(0)\n",
    "        correct += predicted.eq(targets).sum().item()\n",
    "        \n",
    "        rate = (step + 1) / len(train_loader)\n",
    "        a = \"*\" * int(rate * 50)\n",
    "        b = \".\" * int((1 - rate) * 50)\n",
    "        print(\"\\rEpoch {}: {:^3.0f}%[{}->{}]{:.3f}\".format(epoch+1, int(rate * 100), a, b, loss), end=\"\")\n",
    "    print('  Running time: %.3f' % (time.perf_counter() - t1))\n",
    "    acc = 100.*correct/total\n",
    "    loss = train_loss / step\n",
    "    print('train loss: %.6f, acc: %.3f%% (%d/%d)' % (loss, acc, correct, total))\n",
    "    return loss,acc/100"
   ]
  },
  {
   "cell_type": "code",
   "execution_count": 18,
   "id": "c0972a35",
   "metadata": {},
   "outputs": [],
   "source": [
    "def test(epoch):\n",
    "    net.eval()\n",
    "    test_loss = 0\n",
    "    correct = 0\n",
    "    total = 0\n",
    "    with torch.no_grad():\n",
    "        for step, (inputs, targets) in enumerate(validate_loader):\n",
    "            inputs, targets = inputs.to(device), targets.to(device)\n",
    "            outputs = net(inputs)\n",
    "            loss = criterion(outputs, targets)\n",
    "\n",
    "            test_loss += loss.item()\n",
    "            _, predicted = outputs.max(1)\n",
    "            total += targets.size(0)\n",
    "            correct += predicted.eq(targets).sum().item()\n",
    "        val_accurate = correct / val_num\n",
    "        global best_acc\n",
    "        if val_accurate > best_acc:\n",
    "            best_acc = val_accurate\n",
    "            torch.save(net.state_dict(), save_path)\n",
    "    acc = 100.*correct/total\n",
    "    loss = test_loss / step\n",
    "    print('test loss: %.6f, acc: %.3f%% (%d/%d)' % (loss, acc, correct, total))\n",
    "    return loss,acc/100"
   ]
  },
  {
   "cell_type": "code",
   "execution_count": 19,
   "id": "fd670561",
   "metadata": {},
   "outputs": [
    {
     "name": "stdout",
     "output_type": "stream",
     "text": [
      "Epoch 1: 100%[**************************************************->]1.234  Running time: 15.802\n",
      "train loss: 1.466323, acc: 38.082% (1259/3306)\n",
      "test loss: 1.114843, acc: 59.615% (217/364)\n",
      "Epoch 2: 100%[**************************************************->]0.848  Running time: 15.510\n",
      "train loss: 0.995202, acc: 64.096% (2119/3306)\n",
      "test loss: 0.798854, acc: 73.352% (267/364)\n",
      "Epoch 3: 100%[**************************************************->]0.649  Running time: 15.433\n",
      "train loss: 0.779409, acc: 73.019% (2414/3306)\n",
      "test loss: 0.633822, acc: 78.846% (287/364)\n",
      "Epoch 4: 100%[**************************************************->]0.690  Running time: 15.467\n",
      "train loss: 0.660029, acc: 76.528% (2530/3306)\n",
      "test loss: 0.558514, acc: 80.220% (292/364)\n",
      "Epoch 5: 100%[**************************************************->]0.507  Running time: 15.388\n",
      "train loss: 0.585063, acc: 79.401% (2625/3306)\n",
      "test loss: 0.522154, acc: 82.418% (300/364)\n",
      "Epoch 6: 100%[**************************************************->]0.571  Running time: 15.770\n",
      "train loss: 0.560784, acc: 80.097% (2648/3306)\n",
      "test loss: 0.499195, acc: 81.319% (296/364)\n",
      "Epoch 7: 100%[**************************************************->]0.579  Running time: 15.655\n",
      "train loss: 0.525432, acc: 81.700% (2701/3306)\n",
      "test loss: 0.470579, acc: 82.967% (302/364)\n",
      "Epoch 8: 100%[**************************************************->]0.528  Running time: 15.480\n",
      "train loss: 0.499017, acc: 82.698% (2734/3306)\n",
      "test loss: 0.460799, acc: 83.791% (305/364)\n",
      "Epoch 9: 100%[**************************************************->]0.731  Running time: 15.470\n",
      "train loss: 0.492365, acc: 83.031% (2745/3306)\n",
      "test loss: 0.449933, acc: 82.967% (302/364)\n",
      "Epoch 10: 100%[**************************************************->]0.328  Running time: 15.826\n",
      "train loss: 0.474359, acc: 82.910% (2741/3306)\n",
      "test loss: 0.444397, acc: 83.791% (305/364)\n",
      "Epoch 11: 100%[**************************************************->]0.436  Running time: 15.596\n",
      "train loss: 0.450943, acc: 84.332% (2788/3306)\n",
      "test loss: 0.436595, acc: 84.341% (307/364)\n",
      "Epoch 12: 100%[**************************************************->]0.543  Running time: 16.009\n",
      "train loss: 0.444478, acc: 84.725% (2801/3306)\n",
      "test loss: 0.423601, acc: 85.165% (310/364)\n",
      "Epoch 13: 100%[**************************************************->]0.325  Running time: 15.561\n",
      "train loss: 0.438463, acc: 84.967% (2809/3306)\n",
      "test loss: 0.417487, acc: 84.890% (309/364)\n",
      "Epoch 14: 100%[**************************************************->]0.459  Running time: 15.537\n",
      "train loss: 0.427523, acc: 84.422% (2791/3306)\n",
      "test loss: 0.421064, acc: 84.890% (309/364)\n",
      "Epoch 15: 100%[**************************************************->]0.422  Running time: 15.493\n",
      "train loss: 0.421988, acc: 85.118% (2814/3306)\n",
      "test loss: 0.418221, acc: 84.890% (309/364)\n",
      "Epoch 16: 100%[**************************************************->]0.336  Running time: 15.444\n",
      "train loss: 0.415925, acc: 85.269% (2819/3306)\n",
      "test loss: 0.403362, acc: 84.615% (308/364)\n",
      "Epoch 17: 100%[**************************************************->]0.343  Running time: 15.456\n",
      "train loss: 0.413034, acc: 85.511% (2827/3306)\n",
      "test loss: 0.411457, acc: 84.615% (308/364)\n",
      "Epoch 18: 100%[**************************************************->]0.300  Running time: 15.459\n",
      "train loss: 0.395442, acc: 85.935% (2841/3306)\n",
      "test loss: 0.397253, acc: 85.714% (312/364)\n",
      "Epoch 19: 100%[**************************************************->]0.426  Running time: 15.377\n",
      "train loss: 0.403380, acc: 86.146% (2848/3306)\n",
      "test loss: 0.400425, acc: 85.440% (311/364)\n",
      "Epoch 20: 100%[**************************************************->]0.480  Running time: 15.367\n",
      "train loss: 0.398953, acc: 85.693% (2833/3306)\n",
      "test loss: 0.402066, acc: 84.615% (308/364)\n",
      "Epoch 21: 100%[**************************************************->]0.369  Running time: 15.295\n",
      "train loss: 0.398393, acc: 86.237% (2851/3306)\n",
      "test loss: 0.391451, acc: 85.714% (312/364)\n",
      "Epoch 22: 100%[**************************************************->]0.270  Running time: 15.345\n",
      "train loss: 0.383067, acc: 86.903% (2873/3306)\n",
      "test loss: 0.381076, acc: 85.989% (313/364)\n",
      "Epoch 23: 100%[**************************************************->]0.447  Running time: 15.509\n",
      "train loss: 0.378973, acc: 86.540% (2861/3306)\n",
      "test loss: 0.388478, acc: 85.440% (311/364)\n",
      "Epoch 24: 100%[**************************************************->]0.301  Running time: 15.354\n",
      "train loss: 0.388796, acc: 86.328% (2854/3306)\n",
      "test loss: 0.382327, acc: 86.264% (314/364)\n",
      "Epoch 25: 100%[**************************************************->]0.401  Running time: 15.310\n",
      "train loss: 0.370310, acc: 86.872% (2872/3306)\n",
      "test loss: 0.389120, acc: 86.264% (314/364)\n",
      "Epoch 26: 100%[**************************************************->]0.287  Running time: 15.592\n",
      "train loss: 0.353792, acc: 87.538% (2894/3306)\n",
      "test loss: 0.383617, acc: 85.989% (313/364)\n",
      "Epoch 27: 100%[**************************************************->]0.329  Running time: 15.412\n",
      "train loss: 0.366473, acc: 87.266% (2885/3306)\n",
      "test loss: 0.376077, acc: 85.165% (310/364)\n",
      "Epoch 28: 100%[**************************************************->]0.438  Running time: 15.324\n",
      "train loss: 0.366870, acc: 87.084% (2879/3306)\n",
      "test loss: 0.381371, acc: 84.890% (309/364)\n",
      "Epoch 29: 100%[**************************************************->]0.246  Running time: 16.191\n",
      "train loss: 0.365160, acc: 86.691% (2866/3306)\n",
      "test loss: 0.371980, acc: 85.714% (312/364)\n",
      "Epoch 30: 100%[**************************************************->]0.451  Running time: 16.286\n",
      "train loss: 0.357913, acc: 87.417% (2890/3306)\n",
      "test loss: 0.367816, acc: 87.363% (318/364)\n"
     ]
    }
   ],
   "source": [
    "for epoch in range(epoches):\n",
    "    train_loss,train_acc = train(epoch)\n",
    "    test_loss,test_acc = test(epoch)\n",
    "    train_losses.append(train_loss)\n",
    "    train_accs.append(train_acc)\n",
    "    test_losses.append(test_loss)\n",
    "    test_accs.append(test_acc)"
   ]
  },
  {
   "cell_type": "code",
   "execution_count": 20,
   "id": "e0862665",
   "metadata": {},
   "outputs": [
    {
     "data": {
      "image/png": "[encoded data removed]",
      "text/plain": [
       "<Figure size 432x288 with 1 Axes>"
      ]
     },
     "metadata": {
      "needs_background": "light"
     },
     "output_type": "display_data"
    }
   ],
   "source": [
    "epoches = [x for x in range(epoches)]\n",
    "plt.plot(epoches, train_losses, epoches, test_losses)\n",
    "plt.xlabel('Epoches')\n",
    "plt.ylabel('Train|Test CrossEntropy Loss')\n",
    "plt.show()"
   ]
  },
  {
   "cell_type": "code",
   "execution_count": 21,
   "id": "6eb81622",
   "metadata": {},
   "outputs": [
    {
     "data": {
      "image/png": "[encoded data removed]",
      "text/plain": [
       "<Figure size 432x288 with 1 Axes>"
      ]
     },
     "metadata": {
      "needs_background": "light"
     },
     "output_type": "display_data"
    }
   ],
   "source": [
    "plt.plot(epoches, train_accs, epoches, test_accs)\n",
    "plt.xlabel('Epoches')\n",
    "plt.ylabel('Train|Test  Accuracy')\n",
    "plt.show()"
   ]
  },
  {
   "cell_type": "code",
   "execution_count": 22,
   "id": "264d6bda",
   "metadata": {},
   "outputs": [
    {
     "name": "stdout",
     "output_type": "stream",
     "text": [
      "Accuracy of the network on the 10000 test images: 87 %\n",
      "Accuracy of daisy : 76 %\n",
      "Accuracy of dandelion : 92 %\n",
      "Accuracy of roses : 82 %\n",
      "Accuracy of sunflowers : 92 %\n",
      "Accuracy of tulips : 89 %\n"
     ]
    }
   ],
   "source": [
    "import itertools\n",
    "import numpy as np\n",
    "\n",
    "conf_matrix = torch.zeros(num_class, num_class)\n",
    "correct = 0\n",
    "total = 0\n",
    "class_correct = list(0. for i in range(num_class))\n",
    "class_total = list(0. for i in range(num_class))\n",
    "\n",
    "with torch.no_grad():\n",
    "    for data in validate_loader:\n",
    "        images, labels = data\n",
    "        images, labels = images.to(device), labels.to(device)\n",
    "        outputs = net(images)\n",
    "        predict = torch.max(outputs, dim=1)[1]\n",
    "        conf_matrix = confusion_matrix(predict, labels=labels, conf_matrix=conf_matrix)\n",
    "        total += labels.size(0)\n",
    "        correct += (predict == labels).sum().item()\n",
    "        c = (predict == labels).squeeze()\n",
    "        for i in range(4):\n",
    "            label = labels[i]\n",
    "            class_correct[label] += c[i].item()\n",
    "            class_total[label] += 1\n",
    "\n",
    "print('Accuracy of the network on the 10000 test images: %d %%' % (100 * correct / total))\n",
    "for i in range(5):\n",
    "    print('Accuracy of %5s : %2d %%' % (\n",
    "        flower_class[i], 100 * class_correct[i] / class_total[i]))"
   ]
  },
  {
   "cell_type": "code",
   "execution_count": 23,
   "id": "63ed978b",
   "metadata": {},
   "outputs": [
    {
     "name": "stdout",
     "output_type": "stream",
     "text": [
      "Confusion matrix, without normalization\n",
      "[[48.  0.  1.  1.  1.]\n",
      " [ 8. 82.  1.  4.  2.]\n",
      " [ 2.  0. 53.  0.  3.]\n",
      " [ 3.  5.  1. 64.  2.]\n",
      " [ 2.  2.  8.  0. 71.]]\n"
     ]
    },
    {
     "data": {
      "image/png": "[encoded data removed]",
      "text/plain": [
       "<Figure size 432x288 with 2 Axes>"
      ]
     },
     "metadata": {
      "needs_background": "light"
     },
     "output_type": "display_data"
    }
   ],
   "source": [
    "plot_confusion_matrix(conf_matrix.numpy(), classes=flower_class, normalize=False,\n",
    "                                 title='Normalized confusion matrix')"
   ]
  }
 ],
 "metadata": {
  "kernelspec": {
   "display_name": "Python 3",
   "language": "python",
   "name": "python3"
  },
  "language_info": {
   "codemirror_mode": {
    "name": "ipython",
    "version": 3
   },
   "file_extension": ".py",
   "mimetype": "text/x-python",
   "name": "python",
   "nbconvert_exporter": "python",
   "pygments_lexer": "ipython3",
   "version": "3.8.8"
  }
 },
 "nbformat": 4,
 "nbformat_minor": 5
}
